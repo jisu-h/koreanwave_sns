{
 "cells": [
  {
   "cell_type": "markdown",
   "id": "1375598d",
   "metadata": {},
   "source": [
    "# Instagram Translate\n",
    "- 파파고 API 불러오기\n",
    "- 'content' 언어감지 및 번역"
   ]
  },
  {
   "cell_type": "code",
   "execution_count": 3,
   "id": "9a24448f",
   "metadata": {},
   "outputs": [],
   "source": [
    "import pandas as pd\n",
    "import os\n",
    "import sys\n",
    "import urllib.request\n",
    "import json"
   ]
  },
  {
   "cell_type": "markdown",
   "id": "322797b2",
   "metadata": {},
   "source": [
    "### 파파고 API 불러오기"
   ]
  },
  {
   "cell_type": "code",
   "execution_count": 75,
   "id": "24ed782b",
   "metadata": {},
   "outputs": [],
   "source": [
    "a=\"Hola gatito   Hi kitty   Estamos de vuelta en Masan  visitando a mis suegros    Deseenme suerte para dejar una buena impresi n y que no me den un sobre con dinero para dejar a Gilberto o me abofeteen con kimchi jaja\""
   ]
  },
  {
   "cell_type": "code",
   "execution_count": 76,
   "id": "4899b238",
   "metadata": {
    "scrolled": true
   },
   "outputs": [
    {
     "name": "stdout",
     "output_type": "stream",
     "text": [
      "es\n",
      "Hello kitty Hi kitty We are back in Masan visiting my in-laws Wish me luck to leave a good impression n and don't give me an envelope with money to leave Gilberto or slap me with jaja kimchi\n"
     ]
    }
   ],
   "source": [
    "# 정보\n",
    "client_id = \"PFBN411tsHYVlj3P4alh\"\n",
    "client_secret = \"NlE_8oxxXY\"\n",
    "text = urllib.parse.quote(a)\n",
    "\n",
    "# 언어감지\n",
    "data = \"query=\" + text\n",
    "url = \"https://openapi.naver.com/v1/papago/detectLangs\"\n",
    "\n",
    "request = urllib.request.Request(url)\n",
    "request.add_header(\"X-Naver-Client-Id\",client_id)\n",
    "request.add_header(\"X-Naver-Client-Secret\",client_secret)\n",
    "response = urllib.request.urlopen(request, data=data.encode(\"utf-8\"))\n",
    "rescode = response.getcode()\n",
    "\n",
    "if(rescode==200):\n",
    "    response_body = response.read()\n",
    "    result = response_body.decode('utf-8')\n",
    "    result = json.loads(result)\n",
    "    langCode = result[\"langCode\"]\n",
    "    print(langCode)\n",
    "else:\n",
    "    print(\"Error Code:\" + rescode)\n",
    "    \n",
    "# 번역\n",
    "data = \"source=\" + langCode + \"&target=en&text=\" + text\n",
    "url = \"https://openapi.naver.com/v1/papago/n2mt\"\n",
    "\n",
    "request = urllib.request.Request(url)\n",
    "request.add_header(\"X-Naver-Client-Id\",client_id)\n",
    "request.add_header(\"X-Naver-Client-Secret\",client_secret)\n",
    "response = urllib.request.urlopen(request, data=data.encode(\"utf-8\"))\n",
    "rescode = response.getcode()\n",
    "\n",
    "if(rescode==200):\n",
    "    response_body = response.read()\n",
    "    result = response_body.decode('utf-8')\n",
    "    result = json.loads(result)\n",
    "    trans_text = result[\"message\"][\"result\"][\"translatedText\"]\n",
    "    print(trans_text)\n",
    "else:\n",
    "    print(\"Error Code:\" + rescode)"
   ]
  },
  {
   "cell_type": "code",
   "execution_count": null,
   "id": "36938403",
   "metadata": {},
   "outputs": [],
   "source": []
  }
 ],
 "metadata": {
  "kernelspec": {
   "display_name": "Python 3 (ipykernel)",
   "language": "python",
   "name": "python3"
  },
  "language_info": {
   "codemirror_mode": {
    "name": "ipython",
    "version": 3
   },
   "file_extension": ".py",
   "mimetype": "text/x-python",
   "name": "python",
   "nbconvert_exporter": "python",
   "pygments_lexer": "ipython3",
   "version": "3.9.12"
  }
 },
 "nbformat": 4,
 "nbformat_minor": 5
}
