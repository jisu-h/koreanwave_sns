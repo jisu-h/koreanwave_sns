{
 "cells": [
  {
   "cell_type": "markdown",
   "id": "537c9a13",
   "metadata": {},
   "source": [
    "# Instagram: Location Analysis"
   ]
  },
  {
   "cell_type": "code",
   "execution_count": null,
   "id": "02b06eb1",
   "metadata": {},
   "outputs": [],
   "source": [
    "# Visual Python: Data Analysis > Import\n",
    "import numpy as np\n",
    "import pandas as pd\n",
    "import time\n",
    "import re\n",
    "import os\n",
    "import random"
   ]
  },
  {
   "cell_type": "code",
   "execution_count": null,
   "id": "a99afa67",
   "metadata": {},
   "outputs": [],
   "source": [
    "import selenium\n",
    "from selenium import webdriver\n",
    "from selenium.webdriver.chrome.service import Service as ChromeService\n",
    "import subprocess\n",
    "import shutil\n",
    "from selenium.webdriver.chrome.options import Options\n",
    "from webdriver_manager.chrome import ChromeDriverManager\n",
    "from selenium.webdriver.common.keys import Keys\n",
    "from selenium.webdriver.common.by import By\n",
    "from bs4 import BeautifulSoup"
   ]
  },
  {
   "cell_type": "markdown",
   "id": "97e60f78",
   "metadata": {},
   "source": [
    "### Instagram 데이터 수집 함수 생성"
   ]
  },
  {
   "cell_type": "code",
   "execution_count": null,
   "id": "15e53129",
   "metadata": {},
   "outputs": [],
   "source": [
    "#검색어 페이지 주소 생성 \n",
    "def insta_search(word):\n",
    "    url = \"https://www.instagram.com/explore/tags/\" + str(word)\n",
    "    return url"
   ]
  },
  {
   "cell_type": "code",
   "execution_count": null,
   "id": "9d0b2074",
   "metadata": {},
   "outputs": [],
   "source": [
    "# 첫 번재 게시글 선택\n",
    "def select_first(driver):\n",
    "    first = driver.find_elements(By.CSS_SELECTOR, 'div._aagu')[0]\n",
    "    first.click()\n",
    "    time.sleep(3)"
   ]
  },
  {
   "cell_type": "code",
   "execution_count": null,
   "id": "9b5d53a3",
   "metadata": {},
   "outputs": [],
   "source": [
    "# 게시글 정보 가져오기 \n",
    "\n",
    "def get_content(driver):\n",
    "    html = driver.page_source\n",
    "    soup = BeautifulSoup(html, 'lxml')\n",
    "\n",
    "    try:\n",
    "        content = soup.select('div._a9zs > span')[0].text # html 태그 확인\n",
    "        #content = unicodedata.normalize('NFC', content)\n",
    "    except:\n",
    "        content = ' '\n",
    "        \n",
    "    tags = re.findall(r'#[^\\s#,\\\\]+',content)\n",
    "    date = soup.select('time._aaqe')[0]['datetime'][:10]\n",
    "    \n",
    "    try:\n",
    "        like = soup.select('div._aacl._aaco._aacw._aacx._aada._aade')[0].findAll('span')[-1].text # html 태그 확인\n",
    "    except:\n",
    "        like = 0\n",
    "    \n",
    "    try:\n",
    "        place = soup.select('div._aaql')[0].text\n",
    "        # html 태그 확인\n",
    "        #place = unicodedata.normalize('NFC', place)\n",
    "    except:\n",
    "        place = ''\n",
    "    \n",
    "    data = [content, date, like, place, tags]\n",
    "    return data "
   ]
  },
  {
   "cell_type": "code",
   "execution_count": null,
   "id": "f8d27aa4",
   "metadata": {},
   "outputs": [],
   "source": [
    "# 다음 게시글 조회\n",
    "def move_next(driver): \n",
    "    right = driver.find_element(By.CSS_SELECTOR, 'div._aaqg._aaqh') # html 태그 확인\n",
    "    time.sleep(1)\n",
    "    right.click()\n",
    "    time.sleep(1.5)"
   ]
  },
  {
   "cell_type": "markdown",
   "id": "14bc80fa",
   "metadata": {},
   "source": [
    "### Chrome Driver 설정"
   ]
  },
  {
   "cell_type": "code",
   "execution_count": null,
   "id": "873a5da3",
   "metadata": {},
   "outputs": [],
   "source": [
    "def chromeWebdriver():\n",
    "    chrome_service = ChromeService(executable_path=ChromeDriverManager().install())\n",
    "    options = Options()\n",
    "    options.add_experimental_option('detach', True)\n",
    "    options.add_experimental_option('excludeSwitches', ['enable-logging'])\n",
    "    \n",
    "    driver = webdriver.Chrome(service=chrome_service, options=options)\n",
    "    return driver"
   ]
  },
  {
   "cell_type": "code",
   "execution_count": null,
   "id": "ef804a6d",
   "metadata": {
    "scrolled": true
   },
   "outputs": [],
   "source": [
    "driver = chromeWebdriver()\n",
    "#driver = webdriver.Chrome(r'C:\\Users\\user\\chromedriver.exe')\n",
    "driver.get('http://www.instagram.com')\n",
    "driver.implicitly_wait(3)"
   ]
  },
  {
   "cell_type": "code",
   "execution_count": null,
   "id": "b462f038",
   "metadata": {},
   "outputs": [],
   "source": [
    "#driver.quit()\n",
    "#driver.close()"
   ]
  },
  {
   "cell_type": "markdown",
   "id": "f76afe7b",
   "metadata": {},
   "source": [
    "### Instagram 계정 설정"
   ]
  },
  {
   "cell_type": "code",
   "execution_count": null,
   "id": "eea8433c",
   "metadata": {
    "scrolled": true
   },
   "outputs": [],
   "source": [
    "insta_id = '0ffthe_record'\n",
    "input_id = driver.find_elements(By.CSS_SELECTOR, 'input._2hvTZ.pexuQ.zyHYP')[0] \n",
    "\n",
    "input_id.clear()\n",
    "input_id.send_keys(insta_id)\n",
    "\n",
    "password = 'han0725!'\n",
    "input_pw = driver.find_elements(By.CSS_SELECTOR, 'input._2hvTZ.pexuQ.zyHYP')[1]\n",
    "input_pw.clear()\n",
    "input_pw.send_keys(password)\n",
    "input_pw.submit()\n",
    "\n",
    "time.sleep(5)"
   ]
  },
  {
   "cell_type": "markdown",
   "id": "400e5708",
   "metadata": {},
   "source": [
    "### Instagram 데이터 수집하기"
   ]
  },
  {
   "cell_type": "code",
   "execution_count": null,
   "id": "2c63cf5e",
   "metadata": {},
   "outputs": [],
   "source": [
    "%%time \n",
    "\n",
    "url = insta_search('southkoreatrip')\n",
    "driver.get(url)\n",
    "time.sleep(7)\n",
    "\n",
    "select_first(driver)\n",
    "\n",
    "results = [ ] \n",
    "\n",
    "target = 1000\n",
    "for i in range(target):\n",
    "    try:\n",
    "        data = get_content(driver)\n",
    "        results.append(data)\n",
    "        move_next(driver)   \n",
    "    except:\n",
    "        time.sleep(4)\n",
    "        move_next(driver)\n",
    "    time.sleep(random.uniform(1, 4))\n",
    "    if i % 100 == 0:\n",
    "        print(\"{0}번 끝\".format(i))\n",
    "\n",
    "results_df = pd.DataFrame(results)\n",
    "results_df.columns = ['content', 'date', 'like', 'place', 'tags']\n",
    "\n",
    "results_df.to_csv('./data/koreagram_insta_crawling.csv', index=False, encoding='utf-8-sig')"
   ]
  },
  {
   "cell_type": "code",
   "execution_count": null,
   "id": "ccd3380c",
   "metadata": {},
   "outputs": [],
   "source": [
    "# Visual Python: Data Analysis > File\n",
    "result_df = pd.read_csv('./data/southkoreatrip_insta_crawling.csv', encoding='utf-8-sig')\n",
    "result_df"
   ]
  },
  {
   "cell_type": "markdown",
   "id": "5e6b95b2",
   "metadata": {},
   "source": [
    "### N개 이어서 크롤링"
   ]
  },
  {
   "cell_type": "code",
   "execution_count": null,
   "id": "d7f0b8b1",
   "metadata": {
    "scrolled": false
   },
   "outputs": [],
   "source": [
    "%%time\n",
    "\n",
    "url = insta_search('koreagram')\n",
    "driver.get(url)\n",
    "time.sleep(20)\n",
    "\n",
    "select_first(driver)\n",
    "\n",
    "results = [ ] \n",
    "\n",
    "# 이전 n(target1)개 그냥 넘기기\n",
    "target1 = 11700\n",
    "for i in range(target1):\n",
    "    move_next(driver)\n",
    "    if i % 100 == 0:\n",
    "        print(\"{0}번 끝\".format(i))\n",
    "\n",
    "# 뒤의 n(target2)개 이어서 크롤링\n",
    "target2 = 300\n",
    "for i in range(target2):\n",
    "    try:\n",
    "        data = get_content(driver)\n",
    "        results.append(data)\n",
    "        move_next(driver)   \n",
    "    except:\n",
    "        time.sleep(2)\n",
    "        move_next(driver)\n",
    "    time.sleep(random.uniform(1, 4))\n",
    "    if i % 100 == 0:\n",
    "        print(\"{0}번 끝\".format(i))\n",
    "    \n",
    "print(results[:1])\n",
    "\n",
    "results_df = pd.DataFrame(results)\n",
    "results_df.columns = ['content', 'date', 'like', 'place', 'tags']\n",
    "\n",
    "# 원래 파일 뒤에 이어서 저장\n",
    "#results_df.to_csv('./southkoreatrip_insta_crawling.csv', index=False, mode='a', encoding='utf-8-sig', header=False)\n",
    "\n",
    "results_df.to_csv('./koreagram_insta_crawling(1004).csv', index=False, encoding='utf-8-sig')"
   ]
  },
  {
   "cell_type": "code",
   "execution_count": null,
   "id": "8be0a87d",
   "metadata": {},
   "outputs": [],
   "source": [
    "result_df = pd.read_csv('./southkoreatrip_insta_crawling.csv', encoding='utf-8-sig')\n",
    "result_df"
   ]
  },
  {
   "cell_type": "markdown",
   "id": "af3b2ab0",
   "metadata": {},
   "source": [
    "### 위치정보 가져오기"
   ]
  },
  {
   "cell_type": "code",
   "execution_count": null,
   "id": "6c9144b2",
   "metadata": {},
   "outputs": [],
   "source": [
    "location_counts = results_df['place'].value_counts()\n",
    "print(location_counts)"
   ]
  },
  {
   "cell_type": "code",
   "execution_count": null,
   "id": "ab5c1536",
   "metadata": {},
   "outputs": [],
   "source": [
    "location_counts_df = pd.DataFrame(location_counts)\n",
    "location_counts_df.to_csv('./koreagram_location_counts.csv', encoding='utf-8-sig')"
   ]
  },
  {
   "cell_type": "code",
   "execution_count": null,
   "id": "1375e28b",
   "metadata": {},
   "outputs": [],
   "source": [
    "locations = list(location_counts.index)\n",
    "print(locations)"
   ]
  },
  {
   "cell_type": "code",
   "execution_count": null,
   "id": "7ea7a941",
   "metadata": {},
   "outputs": [],
   "source": [
    "import requests \n",
    "\n",
    "searching = '창경궁'\n",
    "url = 'https://dapi.kakao.com/v2/local/search/keyword.json?query={}'.format(searching)\n",
    "\n",
    "headers = {\"Authorization\": \"KakaoAK 7b79badcab2f1b9bd186f82a4ade78e2\"}\n",
    "\n",
    "places = requests.get(url, headers = headers).json()['documents']\n",
    "print(places)"
   ]
  },
  {
   "cell_type": "code",
   "execution_count": null,
   "id": "a1d52765",
   "metadata": {},
   "outputs": [],
   "source": [
    "def find_places(searching):\n",
    "    url = 'https://dapi.kakao.com/v2/local/search/keyword.json?query={}'.format(searching)\n",
    "    headers = {\"Authorization\": \"KakaoAK 7b79badcab2f1b9bd186f82a4ade78e2\"}\n",
    "    \n",
    "    places = requests.get(url, headers = headers).json()['documents']\n",
    "    place = places[0]\n",
    "    name = place['place_name']\n",
    "\n",
    "    x = place['x']\n",
    "    y = place['y']\n",
    "    data = name, x, y, searching\n",
    "\n",
    "    return data"
   ]
  },
  {
   "cell_type": "code",
   "execution_count": null,
   "id": "849bfc8c",
   "metadata": {},
   "outputs": [],
   "source": [
    "print(find_places('창경궁'))"
   ]
  },
  {
   "cell_type": "code",
   "execution_count": null,
   "id": "1b49dcb8",
   "metadata": {},
   "outputs": [],
   "source": [
    "import time\n",
    "from tqdm import tqdm\n",
    "\n",
    "locations_inform = []\n",
    "for location in tqdm(locations):\n",
    "    try:\n",
    "        data = find_places(location)\n",
    "        locations_inform.append(data)\n",
    "        time.sleep(0.5)\n",
    "    except:\n",
    "        pass\n",
    "\n",
    "locations_inform_df = pd.DataFrame(locations_inform)\n",
    "locations_inform_df.columns = ['네이버위치명', '경도', '위도', '인스타위치명']\n",
    "locations_inform_df.to_csv('./data/koreagram_location_final.csv', index=False, encoding='utf-8-sig')"
   ]
  },
  {
   "cell_type": "markdown",
   "id": "0a07b26e",
   "metadata": {},
   "source": [
    "### 위치 데이터 시각화 (Plotly)"
   ]
  },
  {
   "cell_type": "code",
   "execution_count": null,
   "id": "a3f0c795",
   "metadata": {},
   "outputs": [],
   "source": [
    "# Visual Python: Logic > code\n",
    "import plotly.express as px\n",
    "import plotly\n",
    "plotly.offline.init_notebook_mode(connected=True)"
   ]
  },
  {
   "cell_type": "code",
   "execution_count": null,
   "id": "2dbd1ac4",
   "metadata": {},
   "outputs": [],
   "source": [
    "locations_inform_df"
   ]
  },
  {
   "cell_type": "code",
   "execution_count": null,
   "id": "d3ffa65f",
   "metadata": {},
   "outputs": [],
   "source": [
    "locations_inform_df.dtypes"
   ]
  },
  {
   "cell_type": "code",
   "execution_count": null,
   "id": "158511d4",
   "metadata": {},
   "outputs": [],
   "source": [
    "locations_inform_df = locations_inform_df[['경도','위도']].astype('float64')"
   ]
  },
  {
   "cell_type": "code",
   "execution_count": null,
   "id": "482f41f8",
   "metadata": {},
   "outputs": [],
   "source": [
    "fig = px.scatter_mapbox(locations_inform_df, lat='위도', lon='경도', size_max=400, zoom=6)\n",
    "fig.update_layout(mapbox_style = 'open-street-map')\n",
    "fig.show()"
   ]
  },
  {
   "cell_type": "code",
   "execution_count": null,
   "id": "31b79a07",
   "metadata": {},
   "outputs": [],
   "source": [
    "#End of File"
   ]
  }
 ],
 "metadata": {
  "kernelspec": {
   "display_name": "Python 3 (ipykernel)",
   "language": "python",
   "name": "python3"
  },
  "language_info": {
   "codemirror_mode": {
    "name": "ipython",
    "version": 3
   },
   "file_extension": ".py",
   "mimetype": "text/x-python",
   "name": "python",
   "nbconvert_exporter": "python",
   "pygments_lexer": "ipython3",
   "version": "3.9.12"
  }
 },
 "nbformat": 4,
 "nbformat_minor": 5
}
