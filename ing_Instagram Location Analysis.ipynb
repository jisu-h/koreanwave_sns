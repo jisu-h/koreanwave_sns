{
 "cells": [
  {
   "cell_type": "markdown",
   "id": "537c9a13",
   "metadata": {},
   "source": [
    "# Instagram: Location Analysis"
   ]
  },
  {
   "cell_type": "code",
   "execution_count": 1,
   "id": "02b06eb1",
   "metadata": {},
   "outputs": [],
   "source": [
    "# Visual Python: Data Analysis > Import\n",
    "import numpy as np\n",
    "import pandas as pd\n",
    "import time\n",
    "import re\n",
    "import os\n",
    "import random"
   ]
  },
  {
   "cell_type": "code",
   "execution_count": 2,
   "id": "a99afa67",
   "metadata": {},
   "outputs": [],
   "source": [
    "import selenium\n",
    "from selenium import webdriver\n",
    "from selenium.webdriver.chrome.service import Service as ChromeService\n",
    "import subprocess\n",
    "import shutil\n",
    "from selenium.webdriver.chrome.options import Options\n",
    "from webdriver_manager.chrome import ChromeDriverManager\n",
    "from selenium.webdriver.common.keys import Keys\n",
    "from selenium.webdriver.common.by import By\n",
    "from bs4 import BeautifulSoup"
   ]
  },
  {
   "cell_type": "markdown",
   "id": "97e60f78",
   "metadata": {},
   "source": [
    "### Instagram 데이터 수집 함수 생성"
   ]
  },
  {
   "cell_type": "code",
   "execution_count": 3,
   "id": "15e53129",
   "metadata": {},
   "outputs": [],
   "source": [
    "#검색어 페이지 주소 생성 \n",
    "def insta_search(word):\n",
    "    url = \"https://www.instagram.com/explore/tags/\" + str(word)\n",
    "    return url"
   ]
  },
  {
   "cell_type": "code",
   "execution_count": 4,
   "id": "9d0b2074",
   "metadata": {},
   "outputs": [],
   "source": [
    "# 첫 번재 게시글 선택\n",
    "def select_first(driver):\n",
    "    first = driver.find_elements(By.CSS_SELECTOR, 'div._aagu')[0]\n",
    "    first.click()\n",
    "    time.sleep(3)"
   ]
  },
  {
   "cell_type": "code",
   "execution_count": 5,
   "id": "9b5d53a3",
   "metadata": {},
   "outputs": [],
   "source": [
    "# 게시글 정보 가져오기 \n",
    "\n",
    "def get_content(driver):\n",
    "    html = driver.page_source\n",
    "    soup = BeautifulSoup(html, 'lxml')\n",
    "\n",
    "    try:\n",
    "        content = soup.select('div._a9zs > span')[0].text # html 태그 확인\n",
    "        #content = unicodedata.normalize('NFC', content)\n",
    "    except:\n",
    "        content = ' '\n",
    "        \n",
    "    tags = re.findall(r'#[^\\s#,\\\\]+',content)\n",
    "    date = soup.select('time._aaqe')[0]['datetime'][:10]\n",
    "    \n",
    "    try:\n",
    "        like = soup.select('div._aacl._aaco._aacw._aacx._aada._aade')[0].findAll('span')[-1].text # html 태그 확인\n",
    "    except:\n",
    "        like = 0\n",
    "    \n",
    "    try:\n",
    "        place = soup.select('div._aaql')[0].text\n",
    "        # html 태그 확인\n",
    "        #place = unicodedata.normalize('NFC', place)\n",
    "    except:\n",
    "        place = ''\n",
    "    \n",
    "    data = [content, date, like, place, tags]\n",
    "    return data "
   ]
  },
  {
   "cell_type": "code",
   "execution_count": 6,
   "id": "f8d27aa4",
   "metadata": {},
   "outputs": [],
   "source": [
    "# 다음 게시글 조회\n",
    "def move_next(driver): \n",
    "    right = driver.find_element(By.CSS_SELECTOR, 'div._aaqg._aaqh') # html 태그 확인\n",
    "    time.sleep(1)\n",
    "    right.click()\n",
    "    time.sleep(1.5)"
   ]
  },
  {
   "cell_type": "markdown",
   "id": "14bc80fa",
   "metadata": {},
   "source": [
    "### Chrome Driver 설정"
   ]
  },
  {
   "cell_type": "code",
   "execution_count": 7,
   "id": "873a5da3",
   "metadata": {},
   "outputs": [],
   "source": [
    "def chromeWebdriver():\n",
    "    chrome_service = ChromeService(executable_path=ChromeDriverManager().install())\n",
    "    options = Options()\n",
    "    options.add_experimental_option('detach', True)\n",
    "    options.add_experimental_option('excludeSwitches', ['enable-logging'])\n",
    "    \n",
    "    driver = webdriver.Chrome(service=chrome_service, options=options)\n",
    "    return driver"
   ]
  },
  {
   "cell_type": "code",
   "execution_count": 8,
   "id": "ef804a6d",
   "metadata": {
    "scrolled": true
   },
   "outputs": [
    {
     "name": "stdout",
     "output_type": "stream",
     "text": [
      "\n"
     ]
    }
   ],
   "source": [
    "driver = chromeWebdriver()\n",
    "#driver = webdriver.Chrome(r'C:\\Users\\user\\chromedriver.exe')\n",
    "driver.get('http://www.instagram.com')\n",
    "driver.implicitly_wait(3)"
   ]
  },
  {
   "cell_type": "code",
   "execution_count": 9,
   "id": "b462f038",
   "metadata": {},
   "outputs": [],
   "source": [
    "#driver.quit()\n",
    "#driver.close()"
   ]
  },
  {
   "cell_type": "markdown",
   "id": "f76afe7b",
   "metadata": {},
   "source": [
    "### Instagram 계정 설정"
   ]
  },
  {
   "cell_type": "code",
   "execution_count": 9,
   "id": "eea8433c",
   "metadata": {
    "scrolled": true
   },
   "outputs": [],
   "source": [
    "insta_id = '0ffthe_record'\n",
    "input_id = driver.find_elements(By.CSS_SELECTOR, 'input._2hvTZ.pexuQ.zyHYP')[0] \n",
    "\n",
    "input_id.clear()\n",
    "input_id.send_keys(insta_id)\n",
    "\n",
    "password = 'han0725!'\n",
    "input_pw = driver.find_elements(By.CSS_SELECTOR, 'input._2hvTZ.pexuQ.zyHYP')[1]\n",
    "input_pw.clear()\n",
    "input_pw.send_keys(password)\n",
    "input_pw.submit()\n",
    "\n",
    "time.sleep(5)"
   ]
  },
  {
   "cell_type": "markdown",
   "id": "400e5708",
   "metadata": {},
   "source": [
    "### Instagram 데이터 수집하기"
   ]
  },
  {
   "cell_type": "code",
   "execution_count": 12,
   "id": "2c63cf5e",
   "metadata": {},
   "outputs": [
    {
     "name": "stdout",
     "output_type": "stream",
     "text": [
      "0번 끝\n",
      "100번 끝\n",
      "200번 끝\n",
      "300번 끝\n",
      "400번 끝\n",
      "500번 끝\n",
      "600번 끝\n",
      "700번 끝\n",
      "800번 끝\n",
      "900번 끝\n",
      "CPU times: total: 1min 5s\n",
      "Wall time: 1h 4min 46s\n"
     ]
    }
   ],
   "source": [
    "%%time \n",
    "\n",
    "url = insta_search('southkoreatrip')\n",
    "driver.get(url)\n",
    "time.sleep(7)\n",
    "\n",
    "select_first(driver)\n",
    "\n",
    "results = [ ] \n",
    "\n",
    "target = 1000\n",
    "for i in range(target):\n",
    "    try:\n",
    "        data = get_content(driver)\n",
    "        results.append(data)\n",
    "        move_next(driver)   \n",
    "    except:\n",
    "        time.sleep(4)\n",
    "        move_next(driver)\n",
    "    time.sleep(random.uniform(1, 4))\n",
    "    if i % 100 == 0:\n",
    "        print(\"{0}번 끝\".format(i))\n",
    "\n",
    "results_df = pd.DataFrame(results)\n",
    "results_df.columns = ['content', 'date', 'like', 'place', 'tags']\n",
    "\n",
    "results_df.to_csv('./data/koreagram_insta_crawling.csv', index=False, encoding='utf-8-sig')"
   ]
  },
  {
   "cell_type": "code",
   "execution_count": 15,
   "id": "ccd3380c",
   "metadata": {},
   "outputs": [
    {
     "data": {
      "text/html": [
       "<div>\n",
       "<style scoped>\n",
       "    .dataframe tbody tr th:only-of-type {\n",
       "        vertical-align: middle;\n",
       "    }\n",
       "\n",
       "    .dataframe tbody tr th {\n",
       "        vertical-align: top;\n",
       "    }\n",
       "\n",
       "    .dataframe thead th {\n",
       "        text-align: right;\n",
       "    }\n",
       "</style>\n",
       "<table border=\"1\" class=\"dataframe\">\n",
       "  <thead>\n",
       "    <tr style=\"text-align: right;\">\n",
       "      <th></th>\n",
       "      <th>content</th>\n",
       "      <th>date</th>\n",
       "      <th>like</th>\n",
       "      <th>place</th>\n",
       "      <th>tags</th>\n",
       "    </tr>\n",
       "  </thead>\n",
       "  <tbody>\n",
       "    <tr>\n",
       "      <th>0</th>\n",
       "      <td>아름다운 대한민국🇰🇷 a deepening night🌒[깊어가는 밤]📍충북 음성군 ...</td>\n",
       "      <td>2022-09-03</td>\n",
       "      <td>1,740</td>\n",
       "      <td>충북 음성</td>\n",
       "      <td>['#충북여행', '#사찰여행', '#음성가섭사', '#힐링사진', '#충북가볼만한...</td>\n",
       "    </tr>\n",
       "    <tr>\n",
       "      <th>1</th>\n",
       "      <td>..#덕수궁#서울여행#서울데이트#서울가볼만한곳#deoksugung#deoksugun...</td>\n",
       "      <td>2022-08-28</td>\n",
       "      <td>9,621</td>\n",
       "      <td>Deoksugung</td>\n",
       "      <td>['#덕수궁', '#서울여행', '#서울데이트', '#서울가볼만한곳', '#deok...</td>\n",
       "    </tr>\n",
       "    <tr>\n",
       "      <th>2</th>\n",
       "      <td>..#창경궁#비오는날#서울여행#서울데이트#서울가볼만한곳#changgyeonggung...</td>\n",
       "      <td>2022-09-01</td>\n",
       "      <td>9,178</td>\n",
       "      <td>창경궁 - 昌慶宮 Changgyeonggung</td>\n",
       "      <td>['#창경궁', '#비오는날', '#서울여행', '#서울데이트', '#서울가볼만한곳...</td>\n",
       "    </tr>\n",
       "    <tr>\n",
       "      <th>3</th>\n",
       "      <td>..#보보경심려#월화원#효원공원#수원가볼만한곳#수원데이트#kdramalover.Lo...</td>\n",
       "      <td>2022-08-03</td>\n",
       "      <td>14,990</td>\n",
       "      <td>월화원</td>\n",
       "      <td>['#보보경심려', '#월화원', '#효원공원', '#수원가볼만한곳', '#수원데이...</td>\n",
       "    </tr>\n",
       "    <tr>\n",
       "      <th>4</th>\n",
       "      <td>First picture taken with @fujifilmnederland in...</td>\n",
       "      <td>2022-09-13</td>\n",
       "      <td>0</td>\n",
       "      <td>경기도송탄</td>\n",
       "      <td>['#southkorea', '#southkoreatrip', '#amsterdam...</td>\n",
       "    </tr>\n",
       "    <tr>\n",
       "      <th>...</th>\n",
       "      <td>...</td>\n",
       "      <td>...</td>\n",
       "      <td>...</td>\n",
       "      <td>...</td>\n",
       "      <td>...</td>\n",
       "    </tr>\n",
       "    <tr>\n",
       "      <th>994</th>\n",
       "      <td>하늘가에서 우리 ~На берегу неба я и ты</td>\n",
       "      <td>2022-08-17</td>\n",
       "      <td>108</td>\n",
       "      <td>강원도 속초</td>\n",
       "      <td>[]</td>\n",
       "    </tr>\n",
       "    <tr>\n",
       "      <th>995</th>\n",
       "      <td>22.08</td>\n",
       "      <td>2022-08-17</td>\n",
       "      <td>11</td>\n",
       "      <td>살곶이다리</td>\n",
       "      <td>[]</td>\n",
       "    </tr>\n",
       "    <tr>\n",
       "      <th>996</th>\n",
       "      <td>22.08</td>\n",
       "      <td>2022-08-17</td>\n",
       "      <td>20</td>\n",
       "      <td>서울숲</td>\n",
       "      <td>[]</td>\n",
       "    </tr>\n",
       "    <tr>\n",
       "      <th>997</th>\n",
       "      <td>22.08</td>\n",
       "      <td>2022-08-17</td>\n",
       "      <td>15</td>\n",
       "      <td>성수동</td>\n",
       "      <td>[]</td>\n",
       "    </tr>\n",
       "    <tr>\n",
       "      <th>998</th>\n",
       "      <td>22.08</td>\n",
       "      <td>2022-08-17</td>\n",
       "      <td>10</td>\n",
       "      <td>정독도서관</td>\n",
       "      <td>[]</td>\n",
       "    </tr>\n",
       "  </tbody>\n",
       "</table>\n",
       "<p>999 rows × 5 columns</p>\n",
       "</div>"
      ],
      "text/plain": [
       "                                               content        date    like  \\\n",
       "0    아름다운 대한민국🇰🇷 a deepening night🌒[깊어가는 밤]📍충북 음성군 ...  2022-09-03   1,740   \n",
       "1    ..#덕수궁#서울여행#서울데이트#서울가볼만한곳#deoksugung#deoksugun...  2022-08-28   9,621   \n",
       "2    ..#창경궁#비오는날#서울여행#서울데이트#서울가볼만한곳#changgyeonggung...  2022-09-01   9,178   \n",
       "3    ..#보보경심려#월화원#효원공원#수원가볼만한곳#수원데이트#kdramalover.Lo...  2022-08-03  14,990   \n",
       "4    First picture taken with @fujifilmnederland in...  2022-09-13       0   \n",
       "..                                                 ...         ...     ...   \n",
       "994                    하늘가에서 우리 ~На берегу неба я и ты  2022-08-17     108   \n",
       "995                                              22.08  2022-08-17      11   \n",
       "996                                              22.08  2022-08-17      20   \n",
       "997                                              22.08  2022-08-17      15   \n",
       "998                                              22.08  2022-08-17      10   \n",
       "\n",
       "                         place  \\\n",
       "0                        충북 음성   \n",
       "1                   Deoksugung   \n",
       "2    창경궁 - 昌慶宮 Changgyeonggung   \n",
       "3                          월화원   \n",
       "4                        경기도송탄   \n",
       "..                         ...   \n",
       "994                     강원도 속초   \n",
       "995                      살곶이다리   \n",
       "996                        서울숲   \n",
       "997                        성수동   \n",
       "998                      정독도서관   \n",
       "\n",
       "                                                  tags  \n",
       "0    ['#충북여행', '#사찰여행', '#음성가섭사', '#힐링사진', '#충북가볼만한...  \n",
       "1    ['#덕수궁', '#서울여행', '#서울데이트', '#서울가볼만한곳', '#deok...  \n",
       "2    ['#창경궁', '#비오는날', '#서울여행', '#서울데이트', '#서울가볼만한곳...  \n",
       "3    ['#보보경심려', '#월화원', '#효원공원', '#수원가볼만한곳', '#수원데이...  \n",
       "4    ['#southkorea', '#southkoreatrip', '#amsterdam...  \n",
       "..                                                 ...  \n",
       "994                                                 []  \n",
       "995                                                 []  \n",
       "996                                                 []  \n",
       "997                                                 []  \n",
       "998                                                 []  \n",
       "\n",
       "[999 rows x 5 columns]"
      ]
     },
     "execution_count": 15,
     "metadata": {},
     "output_type": "execute_result"
    }
   ],
   "source": [
    "# Visual Python: Data Analysis > File\n",
    "result_df = pd.read_csv('./data/southkoreatrip_insta_crawling.csv', encoding='utf-8-sig')\n",
    "result_df"
   ]
  },
  {
   "cell_type": "markdown",
   "id": "5e6b95b2",
   "metadata": {},
   "source": [
    "### N개 이어서 크롤링"
   ]
  },
  {
   "cell_type": "code",
   "execution_count": 10,
   "id": "d7f0b8b1",
   "metadata": {
    "scrolled": false
   },
   "outputs": [
    {
     "name": "stdout",
     "output_type": "stream",
     "text": [
      "0번 끝\n",
      "100번 끝\n",
      "200번 끝\n",
      "300번 끝\n",
      "400번 끝\n",
      "500번 끝\n",
      "600번 끝\n",
      "700번 끝\n",
      "800번 끝\n",
      "900번 끝\n",
      "1000번 끝\n",
      "1100번 끝\n",
      "1200번 끝\n",
      "1300번 끝\n",
      "1400번 끝\n",
      "1500번 끝\n",
      "1600번 끝\n",
      "1700번 끝\n",
      "1800번 끝\n",
      "1900번 끝\n",
      "2000번 끝\n",
      "2100번 끝\n",
      "2200번 끝\n",
      "2300번 끝\n",
      "2400번 끝\n",
      "2500번 끝\n",
      "2600번 끝\n",
      "2700번 끝\n",
      "2800번 끝\n",
      "2900번 끝\n",
      "3000번 끝\n",
      "3100번 끝\n",
      "3200번 끝\n",
      "3300번 끝\n",
      "3400번 끝\n",
      "3500번 끝\n",
      "3600번 끝\n",
      "3700번 끝\n",
      "3800번 끝\n",
      "3900번 끝\n",
      "4000번 끝\n",
      "4100번 끝\n",
      "4200번 끝\n",
      "4300번 끝\n",
      "4400번 끝\n",
      "4500번 끝\n",
      "4600번 끝\n",
      "4700번 끝\n",
      "4800번 끝\n",
      "4900번 끝\n",
      "5000번 끝\n",
      "5100번 끝\n"
     ]
    },
    {
     "ename": "TimeoutException",
     "evalue": "Message: timeout: Timed out receiving message from renderer: 300.000\n  (Session info: chrome=105.0.5195.127)\nStacktrace:\nBacktrace:\n\tOrdinal0 [0x011ADF13+2219795]\n\tOrdinal0 [0x01142841+1779777]\n\tOrdinal0 [0x0105423D+803389]\n\tOrdinal0 [0x01047163+749923]\n\tOrdinal0 [0x01045F94+745364]\n\tOrdinal0 [0x01046528+746792]\n\tOrdinal0 [0x0104F42F+783407]\n\tOrdinal0 [0x0105A695+829077]\n\tOrdinal0 [0x0105DA60+842336]\n\tOrdinal0 [0x010467F6+747510]\n\tOrdinal0 [0x0105A4A9+828585]\n\tOrdinal0 [0x010AF0BA+1175738]\n\tOrdinal0 [0x0109E616+1107478]\n\tOrdinal0 [0x01077F89+950153]\n\tOrdinal0 [0x01078F56+954198]\n\tGetHandleVerifier [0x014A2CB2+3040210]\n\tGetHandleVerifier [0x01492BB4+2974420]\n\tGetHandleVerifier [0x01246A0A+565546]\n\tGetHandleVerifier [0x01245680+560544]\n\tOrdinal0 [0x01149A5C+1808988]\n\tOrdinal0 [0x0114E3A8+1827752]\n\tOrdinal0 [0x0114E495+1827989]\n\tOrdinal0 [0x011580A4+1867940]\n\tBaseThreadInitThunk [0x76E6FA29+25]\n\tRtlGetAppContainerNamedObjectPath [0x775F7B5E+286]\n\tRtlGetAppContainerNamedObjectPath [0x775F7B2E+238]\n",
     "output_type": "error",
     "traceback": [
      "\u001b[1;31m---------------------------------------------------------------------------\u001b[0m",
      "\u001b[1;31mTimeoutException\u001b[0m                          Traceback (most recent call last)",
      "File \u001b[1;32m<timed exec>:12\u001b[0m, in \u001b[0;36m<module>\u001b[1;34m\u001b[0m\n",
      "Input \u001b[1;32mIn [6]\u001b[0m, in \u001b[0;36mmove_next\u001b[1;34m(driver)\u001b[0m\n\u001b[0;32m      2\u001b[0m \u001b[38;5;28;01mdef\u001b[39;00m \u001b[38;5;21mmove_next\u001b[39m(driver): \n\u001b[1;32m----> 3\u001b[0m     right \u001b[38;5;241m=\u001b[39m \u001b[43mdriver\u001b[49m\u001b[38;5;241;43m.\u001b[39;49m\u001b[43mfind_element\u001b[49m\u001b[43m(\u001b[49m\u001b[43mBy\u001b[49m\u001b[38;5;241;43m.\u001b[39;49m\u001b[43mCSS_SELECTOR\u001b[49m\u001b[43m,\u001b[49m\u001b[43m \u001b[49m\u001b[38;5;124;43m'\u001b[39;49m\u001b[38;5;124;43mdiv._aaqg._aaqh\u001b[39;49m\u001b[38;5;124;43m'\u001b[39;49m\u001b[43m)\u001b[49m \u001b[38;5;66;03m# html 태그 확인\u001b[39;00m\n\u001b[0;32m      4\u001b[0m     time\u001b[38;5;241m.\u001b[39msleep(\u001b[38;5;241m1\u001b[39m)\n\u001b[0;32m      5\u001b[0m     right\u001b[38;5;241m.\u001b[39mclick()\n",
      "File \u001b[1;32m~\\AppData\\Roaming\\Python\\Python39\\site-packages\\selenium\\webdriver\\remote\\webdriver.py:857\u001b[0m, in \u001b[0;36mWebDriver.find_element\u001b[1;34m(self, by, value)\u001b[0m\n\u001b[0;32m    854\u001b[0m     by \u001b[38;5;241m=\u001b[39m By\u001b[38;5;241m.\u001b[39mCSS_SELECTOR\n\u001b[0;32m    855\u001b[0m     value \u001b[38;5;241m=\u001b[39m \u001b[38;5;124m'\u001b[39m\u001b[38;5;124m[name=\u001b[39m\u001b[38;5;124m\"\u001b[39m\u001b[38;5;132;01m%s\u001b[39;00m\u001b[38;5;124m\"\u001b[39m\u001b[38;5;124m]\u001b[39m\u001b[38;5;124m'\u001b[39m \u001b[38;5;241m%\u001b[39m value\n\u001b[1;32m--> 857\u001b[0m \u001b[38;5;28;01mreturn\u001b[39;00m \u001b[38;5;28;43mself\u001b[39;49m\u001b[38;5;241;43m.\u001b[39;49m\u001b[43mexecute\u001b[49m\u001b[43m(\u001b[49m\u001b[43mCommand\u001b[49m\u001b[38;5;241;43m.\u001b[39;49m\u001b[43mFIND_ELEMENT\u001b[49m\u001b[43m,\u001b[49m\u001b[43m \u001b[49m\u001b[43m{\u001b[49m\n\u001b[0;32m    858\u001b[0m \u001b[43m    \u001b[49m\u001b[38;5;124;43m'\u001b[39;49m\u001b[38;5;124;43musing\u001b[39;49m\u001b[38;5;124;43m'\u001b[39;49m\u001b[43m:\u001b[49m\u001b[43m \u001b[49m\u001b[43mby\u001b[49m\u001b[43m,\u001b[49m\n\u001b[0;32m    859\u001b[0m \u001b[43m    \u001b[49m\u001b[38;5;124;43m'\u001b[39;49m\u001b[38;5;124;43mvalue\u001b[39;49m\u001b[38;5;124;43m'\u001b[39;49m\u001b[43m:\u001b[49m\u001b[43m \u001b[49m\u001b[43mvalue\u001b[49m\u001b[43m}\u001b[49m\u001b[43m)\u001b[49m[\u001b[38;5;124m'\u001b[39m\u001b[38;5;124mvalue\u001b[39m\u001b[38;5;124m'\u001b[39m]\n",
      "File \u001b[1;32m~\\AppData\\Roaming\\Python\\Python39\\site-packages\\selenium\\webdriver\\remote\\webdriver.py:435\u001b[0m, in \u001b[0;36mWebDriver.execute\u001b[1;34m(self, driver_command, params)\u001b[0m\n\u001b[0;32m    433\u001b[0m response \u001b[38;5;241m=\u001b[39m \u001b[38;5;28mself\u001b[39m\u001b[38;5;241m.\u001b[39mcommand_executor\u001b[38;5;241m.\u001b[39mexecute(driver_command, params)\n\u001b[0;32m    434\u001b[0m \u001b[38;5;28;01mif\u001b[39;00m response:\n\u001b[1;32m--> 435\u001b[0m     \u001b[38;5;28;43mself\u001b[39;49m\u001b[38;5;241;43m.\u001b[39;49m\u001b[43merror_handler\u001b[49m\u001b[38;5;241;43m.\u001b[39;49m\u001b[43mcheck_response\u001b[49m\u001b[43m(\u001b[49m\u001b[43mresponse\u001b[49m\u001b[43m)\u001b[49m\n\u001b[0;32m    436\u001b[0m     response[\u001b[38;5;124m'\u001b[39m\u001b[38;5;124mvalue\u001b[39m\u001b[38;5;124m'\u001b[39m] \u001b[38;5;241m=\u001b[39m \u001b[38;5;28mself\u001b[39m\u001b[38;5;241m.\u001b[39m_unwrap_value(\n\u001b[0;32m    437\u001b[0m         response\u001b[38;5;241m.\u001b[39mget(\u001b[38;5;124m'\u001b[39m\u001b[38;5;124mvalue\u001b[39m\u001b[38;5;124m'\u001b[39m, \u001b[38;5;28;01mNone\u001b[39;00m))\n\u001b[0;32m    438\u001b[0m     \u001b[38;5;28;01mreturn\u001b[39;00m response\n",
      "File \u001b[1;32m~\\AppData\\Roaming\\Python\\Python39\\site-packages\\selenium\\webdriver\\remote\\errorhandler.py:247\u001b[0m, in \u001b[0;36mErrorHandler.check_response\u001b[1;34m(self, response)\u001b[0m\n\u001b[0;32m    245\u001b[0m         alert_text \u001b[38;5;241m=\u001b[39m value[\u001b[38;5;124m'\u001b[39m\u001b[38;5;124malert\u001b[39m\u001b[38;5;124m'\u001b[39m]\u001b[38;5;241m.\u001b[39mget(\u001b[38;5;124m'\u001b[39m\u001b[38;5;124mtext\u001b[39m\u001b[38;5;124m'\u001b[39m)\n\u001b[0;32m    246\u001b[0m     \u001b[38;5;28;01mraise\u001b[39;00m exception_class(message, screen, stacktrace, alert_text)  \u001b[38;5;66;03m# type: ignore[call-arg]  # mypy is not smart enough here\u001b[39;00m\n\u001b[1;32m--> 247\u001b[0m \u001b[38;5;28;01mraise\u001b[39;00m exception_class(message, screen, stacktrace)\n",
      "\u001b[1;31mTimeoutException\u001b[0m: Message: timeout: Timed out receiving message from renderer: 300.000\n  (Session info: chrome=105.0.5195.127)\nStacktrace:\nBacktrace:\n\tOrdinal0 [0x011ADF13+2219795]\n\tOrdinal0 [0x01142841+1779777]\n\tOrdinal0 [0x0105423D+803389]\n\tOrdinal0 [0x01047163+749923]\n\tOrdinal0 [0x01045F94+745364]\n\tOrdinal0 [0x01046528+746792]\n\tOrdinal0 [0x0104F42F+783407]\n\tOrdinal0 [0x0105A695+829077]\n\tOrdinal0 [0x0105DA60+842336]\n\tOrdinal0 [0x010467F6+747510]\n\tOrdinal0 [0x0105A4A9+828585]\n\tOrdinal0 [0x010AF0BA+1175738]\n\tOrdinal0 [0x0109E616+1107478]\n\tOrdinal0 [0x01077F89+950153]\n\tOrdinal0 [0x01078F56+954198]\n\tGetHandleVerifier [0x014A2CB2+3040210]\n\tGetHandleVerifier [0x01492BB4+2974420]\n\tGetHandleVerifier [0x01246A0A+565546]\n\tGetHandleVerifier [0x01245680+560544]\n\tOrdinal0 [0x01149A5C+1808988]\n\tOrdinal0 [0x0114E3A8+1827752]\n\tOrdinal0 [0x0114E495+1827989]\n\tOrdinal0 [0x011580A4+1867940]\n\tBaseThreadInitThunk [0x76E6FA29+25]\n\tRtlGetAppContainerNamedObjectPath [0x775F7B5E+286]\n\tRtlGetAppContainerNamedObjectPath [0x775F7B2E+238]\n"
     ]
    }
   ],
   "source": [
    "%%time\n",
    "\n",
    "url = insta_search('koreagram')\n",
    "driver.get(url)\n",
    "time.sleep(20)\n",
    "\n",
    "select_first(driver)\n",
    "\n",
    "results = [ ] \n",
    "\n",
    "# 이전 n(target1)개 그냥 넘기기\n",
    "target1 = 11700\n",
    "for i in range(target1):\n",
    "    move_next(driver)\n",
    "    if i % 100 == 0:\n",
    "        print(\"{0}번 끝\".format(i))\n",
    "\n",
    "# 뒤의 n(target2)개 이어서 크롤링\n",
    "target2 = 300\n",
    "for i in range(target2):\n",
    "    try:\n",
    "        data = get_content(driver)\n",
    "        results.append(data)\n",
    "        move_next(driver)   \n",
    "    except:\n",
    "        time.sleep(2)\n",
    "        move_next(driver)\n",
    "    time.sleep(random.uniform(1, 4))\n",
    "    if i % 100 == 0:\n",
    "        print(\"{0}번 끝\".format(i))\n",
    "    \n",
    "print(results[:1])\n",
    "\n",
    "results_df = pd.DataFrame(results)\n",
    "results_df.columns = ['content', 'date', 'like', 'place', 'tags']\n",
    "\n",
    "# 원래 파일 뒤에 이어서 저장\n",
    "#results_df.to_csv('./southkoreatrip_insta_crawling.csv', index=False, mode='a', encoding='utf-8-sig', header=False)\n",
    "\n",
    "results_df.to_csv('./koreagram_insta_crawling(0930).csv', index=False, encoding='utf-8-sig')"
   ]
  },
  {
   "cell_type": "code",
   "execution_count": null,
   "id": "8be0a87d",
   "metadata": {},
   "outputs": [],
   "source": [
    "result_df = pd.read_csv('./southkoreatrip_insta_crawling.csv', encoding='utf-8-sig')\n",
    "result_df"
   ]
  },
  {
   "cell_type": "markdown",
   "id": "af3b2ab0",
   "metadata": {},
   "source": [
    "### 위치정보 가져오기"
   ]
  },
  {
   "cell_type": "code",
   "execution_count": 33,
   "id": "6c9144b2",
   "metadata": {},
   "outputs": [
    {
     "name": "stdout",
     "output_type": "stream",
     "text": [
      "                                         123\n",
      "서울                                        35\n",
      "금강대학교                                     26\n",
      "서울 - Seoul                                15\n",
      "서울숲컨서번시 Seoul Forest Park Conservancy      9\n",
      "                                        ... \n",
      "고창 고인돌유적지                                  1\n",
      "Cheon-An Caliente Bar 천안 깔리엔떼 바            1\n",
      "Some Sevit                                 1\n",
      "분당구                                        1\n",
      "그레뱅 뮤지엄 Grevin Seoul Museum                1\n",
      "Name: place, Length: 220, dtype: int64\n"
     ]
    }
   ],
   "source": [
    "location_counts = results_df['place'].value_counts()\n",
    "print(location_counts)"
   ]
  },
  {
   "cell_type": "code",
   "execution_count": 15,
   "id": "ab5c1536",
   "metadata": {},
   "outputs": [],
   "source": [
    "location_counts_df = pd.DataFrame(location_counts)\n",
    "location_counts_df.to_csv('./koreagram_location_counts.csv', encoding='utf-8-sig')"
   ]
  },
  {
   "cell_type": "code",
   "execution_count": 16,
   "id": "1375e28b",
   "metadata": {},
   "outputs": [
    {
     "name": "stdout",
     "output_type": "stream",
     "text": [
      "['', '서울', 'Jeonju, Korea', '대한민국', 'Seoul, South Korea', '전라남도 순천', '흰여울문화마을', '동명동', '전라북도 전주', '그라운드시소 성수', '부산', '곡성기차마을', 'Korea', 'Haeundae, Busan', '전라남도 여수', '경기도 용인', '전라남도 담양', '해미읍성', '자만벽화마을', 'Seoul Korea', '세비야', '경복궁 - Gyeongbokgung Palace', 'Songdo Beach Skywalk, Busan, South Korea', '전주 한옥마을', '올림픽공원 Oympic Park', '남대문시장 Namdaemun Global Market 韓国南大門市場', '대전광역시', '감천문화마을', '경기도 광주-Gwangju', '서울 - Seoul', 'KIAF 국제아트페어', '금강대학교', '신촌 Sinchon, Seoul, South Korea', 'Gwanghwamun', '전라남도 구례', 'Gyeongpo Lake, Gyeongpo Beach', '충청북도 청주', 'GALLERY CHOI', 'Ilsan', 'Hongdae', '광주시립미술관 Gwangju Museum of Art', '첨단', '대전', '경복궁- Gyeongbokgung Palace 景福宮', 'Myeong-dong', 'Gongju Gongsanseong Fortress Unesco World Heritage 공주 공산성 유네스코 세계문화유산', '카페너와늘', 'Namsangol Hanok Village', '클럽 크로마 Club Chroma', '시청근처', '전라남도 보성', '제주도', '이도커피_sau', 'Namsan Tower Observatory Deck', '순천카페.아삐에노', 'Busan Tower', '경주', '서울공예박물관 Seoul Museum of Craft Art', '양림미술관', '광주', 'Korean Town', '김리아갤러리', '하동 비바체리조트', '제주 금능해수욕장', 'Bukchon Hanok Village', '일곡동', 'Upo Wetlands', '여수', '혼인지', '아오리따', '용마산', '전라북도 정읍시 내장산', '견복궁', '굴업도', '경안천 습지생태공원', 'TBS eFM', '원주 한지테마파크', '서래섬', 'Seccoffee 세크커피', '서촌 Seochon Hanok Village, Seoul Korea', '선유도', 'Pedro Goyena Y Jose Maria Moreno', '인천공항 Incheon Airport', '유구색동수국정원', 'Euljiro 3-ga Station', '카페포토피아', 'Vashi Navi Mumbai', '갈매기브루잉해운대 - Galmegi Brewing Haeundae', 'Seongyojang House of Gangneung', '농촌진흥청 농촌인적자원개발센터', 'Anguk-dong', '잠실 한강공원', '올공, 올림픽공원, 올팍, Seoul Olympic Park', '구룡포일본가옥거리', '타슈켄트', '그랜드 하얏트 서울', '최참판댁', 'Seoraksan National Park 설악산국립공원', 'Insa-dong', 'Yeosu South Korea', 'Banpo Bridge', 'Deoksugung', '𝓢𝓾𝓶𝓶𝓮𝓻', 'Nami Island', '스누피가든', 'Baekje Cultural Land', '청사포 빨간 등대', '뚝섬 미술관', '선유도해수욕장', 'Bulguksa Temple', '사직공원전망타워', '우리집', '세종중앙공원', 'Yonsei International Campus Songdo', 'Ojukheon House, Gangneung, Korea', '서울숲컨서번시 Seoul Forest Park Conservancy', 'Chaeseokgang Cliffs', '새만금횟집', '우일선 선교사 사택', '녹사평역', '천개의향나무숲', '충청남도 금산', '전곡항', 'National Palace Museum of Korea', '고려대학교 - Korea University, Seoul', '전주', '서귀포시 중문동', '국립아시아문화전당', '하동', '서울숲', '국립정동극장 - National Jeongdong Theater Of Korea', '세종국립수목원', '마장호수', 'Cafe Skön', '사근진해변', '오랑주리', '카자구루마', '내장산 케이블카', '금강로하스 산호빛공원', '1인1잔', 'Seongsu-dong', '로스팅웨어', '서울광장', '백제문화단지', 'Cdmx', '협찬 광고법주사', '강원도 양양', '장흥참숯가마', '충청남도 공주', '강원도 춘천', 'Cafe 요괴냥수비대', '충청북도 제천', 'Inwangsan', '듀코비 다이너', '임진각', '용머리해안', 'RDA, Jeonju, South Korea', 'Gyeongbokgung', 'Jeju-do', '전주 덕진공원', '증도 태평염전', '잠수대교', '협찬 광고안동 맘모스제과점', '홍대 이곳저곳 구석구석', '신숭겸장군유적지', '삼성재단', '영도', '초량산복도로', 'Mrnw', '백남준아트센터 Nam June Paik Art Center', '세종특별시', '보령해수욕장', '전라북도 김제', 'Seoraksan National Park, Sokcho, South Korea', '인천 송도 신도시', '잠원한강공원 (Jamwon Hangang Park)', '법주사', '건대입구역', '갤러리조선', '강원도 강릉', '하슬라아트월드 (Haslla Art World)', '세종정부청사', 'Total Museum of Contemporary Art', '경주 월정교', '동대문디자인플라자 DDP', 'COEX Mall', '충청남도 서천', '삼청동', 'Andong-si', '삼성동', '하늘물빛정원', 'Hakgojae Gallery', 'Songdo Beach, Busan', '남평문씨 본리(인흥)세거지', '담양', '창덕궁 昌德宮 Changdeokgung Palace Complex', 'Namsan', '오륙도 Skywalk', '하이클래스153', '양림동', '아산지중해마을', '서울스카이 Seoul Sky, Lotte World Tower, Korea', '금산원조김정이삼계탕', 'Sinsa-dong, Gangnam', '선운산 도립공원']\n"
     ]
    }
   ],
   "source": [
    "locations = list(location_counts.index)\n",
    "print(locations)"
   ]
  },
  {
   "cell_type": "code",
   "execution_count": 17,
   "id": "7ea7a941",
   "metadata": {},
   "outputs": [
    {
     "name": "stdout",
     "output_type": "stream",
     "text": [
      "[{'address_name': '서울 종로구 와룡동 2-1', 'category_group_code': 'AT4', 'category_group_name': '관광명소', 'category_name': '여행 > 관광,명소 > 문화유적 > 고궁,궁', 'distance': '', 'id': '11156260', 'phone': '02-762-4868', 'place_name': '창경궁', 'place_url': 'http://place.map.kakao.com/11156260', 'road_address_name': '서울 종로구 창경궁로 185', 'x': '126.995199911733', 'y': '37.5794165384496'}, {'address_name': '서울 종로구 와룡동 2-1', 'category_group_code': 'PK6', 'category_group_name': '주차장', 'category_name': '교통,수송 > 교통시설 > 주차장', 'distance': '', 'id': '20587392', 'phone': '', 'place_name': '창경궁 주차장', 'place_url': 'http://place.map.kakao.com/20587392', 'road_address_name': '', 'x': '126.99629795858597', 'y': '37.58116450604905'}, {'address_name': '서울 종로구 와룡동 2-1', 'category_group_code': 'AT4', 'category_group_name': '관광명소', 'category_name': '여행 > 관광,명소 > 수목원,식물원', 'distance': '', 'id': '11002870', 'phone': '', 'place_name': '창경궁 대온실', 'place_url': 'http://place.map.kakao.com/11002870', 'road_address_name': '서울 종로구 창경궁로 185', 'x': '126.993999600727', 'y': '37.5830168543695'}, {'address_name': '서울 종로구 와룡동 2-87', 'category_group_code': '', 'category_group_name': '', 'category_name': '서비스,산업 > 관리,운영 > 매표소', 'distance': '', 'id': '1932803950', 'phone': '', 'place_name': '창경궁 매표소', 'place_url': 'http://place.map.kakao.com/1932803950', 'road_address_name': '', 'x': '126.996479192586', 'y': '37.5791607012415'}, {'address_name': '서울 종로구 충신동 60', 'category_group_code': '', 'category_group_name': '', 'category_name': '부동산 > 주거시설 > 아파트', 'distance': '', 'id': '946945721', 'phone': '', 'place_name': '힐스테이트창경궁아파트 (2022년09월예정)', 'place_url': 'http://place.map.kakao.com/946945721', 'road_address_name': '', 'x': '127.004832649507', 'y': '37.5752458345237'}, {'address_name': '서울 종로구 원남동 96-9', 'category_group_code': 'FD6', 'category_group_name': '음식점', 'category_name': '음식점 > 퓨전요리 > 퓨전일식', 'distance': '', 'id': '1654711394', 'phone': '02-747-0150', 'place_name': '창경궁150', 'place_url': 'http://place.map.kakao.com/1654711394', 'road_address_name': '서울 종로구 창경궁로 150', 'x': '126.997581964113', 'y': '37.575650455245'}, {'address_name': '서울 종로구 원남동 66-6', 'category_group_code': '', 'category_group_name': '', 'category_name': '부동산 > 주거시설 > 오피스텔', 'distance': '', 'id': '457839741', 'phone': '', 'place_name': '휴스턴창경궁오피스텔', 'place_url': 'http://place.map.kakao.com/457839741', 'road_address_name': '서울 종로구 창경궁로20길 14', 'x': '126.998406100072', 'y': '37.5751170804489'}, {'address_name': '서울 종로구 와룡동', 'category_group_code': 'AT4', 'category_group_name': '관광명소', 'category_name': '여행 > 관광,명소 > 저수지', 'distance': '', 'id': '8116578', 'phone': '', 'place_name': '창경궁 춘당지', 'place_url': 'http://place.map.kakao.com/8116578', 'road_address_name': '', 'x': '126.994909926037', 'y': '37.581899665179'}, {'address_name': '서울 종로구 와룡동 2-1', 'category_group_code': '', 'category_group_name': '', 'category_name': '스포츠,레저 > 자전거,싸이클 > 자전거대여소', 'distance': '', 'id': '1347403627', 'phone': '', 'place_name': '창경궁 입구대여소', 'place_url': 'http://place.map.kakao.com/1347403627', 'road_address_name': '', 'x': '126.99645429133841', 'y': '37.57905978916545'}, {'address_name': '서울 종로구 명륜4가 198-2', 'category_group_code': '', 'category_group_name': '', 'category_name': '가정,생활 > 패션 > 의류대여서비스 > 한복대여', 'distance': '', 'id': '1297494553', 'phone': '02-763-9937', 'place_name': '고궁마실 창경궁&창덕궁 한복대여', 'place_url': 'http://place.map.kakao.com/1297494553', 'road_address_name': '서울 종로구 창경궁로 229', 'x': '126.997898741875', 'y': '37.5825268477302'}, {'address_name': '서울 종로구 와룡동 2-1', 'category_group_code': 'AT4', 'category_group_name': '관광명소', 'category_name': '여행 > 관광,명소 > 문화유적 > 고궁,궁', 'distance': '', 'id': '17578525', 'phone': '', 'place_name': '창경궁 함양문', 'place_url': 'http://place.map.kakao.com/17578525', 'road_address_name': '', 'x': '126.99308061756884', 'y': '37.5795236515318'}, {'address_name': '서울 종로구 와룡동 2-1', 'category_group_code': '', 'category_group_name': '', 'category_name': '여행 > 관광,명소 > 문화유적', 'distance': '', 'id': '18983768', 'phone': '', 'place_name': '창경궁 옥천교', 'place_url': 'http://place.map.kakao.com/18983768', 'road_address_name': '서울 종로구 창경궁로 185', 'x': '126.99612826092', 'y': '37.578832728422'}, {'address_name': '서울 종로구 와룡동 2-1', 'category_group_code': '', 'category_group_name': '', 'category_name': '여행 > 관광,명소 > 문화유적', 'distance': '', 'id': '7872875', 'phone': '', 'place_name': '창경궁 문정전', 'place_url': 'http://place.map.kakao.com/7872875', 'road_address_name': '서울 종로구 창경궁로 185', 'x': '126.994824115641', 'y': '37.5785515682891'}, {'address_name': '서울 종로구 와룡동 2-1', 'category_group_code': '', 'category_group_name': '', 'category_name': '여행 > 관광,명소 > 문화유적', 'distance': '', 'id': '7873650', 'phone': '', 'place_name': '창경궁 명정전', 'place_url': 'http://place.map.kakao.com/7873650', 'road_address_name': '서울 종로구 창경궁로 185', 'x': '126.994910140961', 'y': '37.5787425827777'}, {'address_name': '서울 종로구 명륜4가 198-2', 'category_group_code': 'FD6', 'category_group_name': '음식점', 'category_name': '음식점 > 일식 > 초밥,롤', 'distance': '', 'id': '1808045382', 'phone': '02-766-2852', 'place_name': '창경궁초밥', 'place_url': 'http://place.map.kakao.com/1808045382', 'road_address_name': '서울 종로구 창경궁로 229', 'x': '126.997903270449', 'y': '37.5825268478107'}]\n"
     ]
    }
   ],
   "source": [
    "import requests \n",
    "\n",
    "searching = '창경궁'\n",
    "url = 'https://dapi.kakao.com/v2/local/search/keyword.json?query={}'.format(searching)\n",
    "\n",
    "headers = {\"Authorization\": \"KakaoAK 7b79badcab2f1b9bd186f82a4ade78e2\"}\n",
    "\n",
    "places = requests.get(url, headers = headers).json()['documents']\n",
    "print(places)"
   ]
  },
  {
   "cell_type": "code",
   "execution_count": 18,
   "id": "a1d52765",
   "metadata": {},
   "outputs": [],
   "source": [
    "def find_places(searching):\n",
    "    url = 'https://dapi.kakao.com/v2/local/search/keyword.json?query={}'.format(searching)\n",
    "    headers = {\"Authorization\": \"KakaoAK 7b79badcab2f1b9bd186f82a4ade78e2\"}\n",
    "    \n",
    "    places = requests.get(url, headers = headers).json()['documents']\n",
    "    place = places[0]\n",
    "    name = place['place_name']\n",
    "\n",
    "    x = place['x']\n",
    "    y = place['y']\n",
    "    data = name, x, y, searching\n",
    "\n",
    "    return data"
   ]
  },
  {
   "cell_type": "code",
   "execution_count": 19,
   "id": "849bfc8c",
   "metadata": {},
   "outputs": [
    {
     "name": "stdout",
     "output_type": "stream",
     "text": [
      "('창경궁', '126.995199911733', '37.5794165384496', '창경궁')\n"
     ]
    }
   ],
   "source": [
    "print(find_places('창경궁'))"
   ]
  },
  {
   "cell_type": "code",
   "execution_count": 20,
   "id": "1b49dcb8",
   "metadata": {},
   "outputs": [
    {
     "name": "stderr",
     "output_type": "stream",
     "text": [
      "100%|████████████████████████████████████████████████████████████████████████████████| 205/205 [01:36<00:00,  2.13it/s]\n"
     ]
    }
   ],
   "source": [
    "import time\n",
    "from tqdm import tqdm\n",
    "\n",
    "locations_inform = []\n",
    "for location in tqdm(locations):\n",
    "    try:\n",
    "        data = find_places(location)\n",
    "        locations_inform.append(data)\n",
    "        time.sleep(0.5)\n",
    "    except:\n",
    "        pass\n",
    "\n",
    "locations_inform_df = pd.DataFrame(locations_inform)\n",
    "locations_inform_df.columns = ['네이버위치명', '경도', '위도', '인스타위치명']\n",
    "locations_inform_df.to_csv('./data/koreagram_location_final.csv', index=False, encoding='utf-8-sig')"
   ]
  },
  {
   "cell_type": "markdown",
   "id": "0a07b26e",
   "metadata": {},
   "source": [
    "### 위치 데이터 시각화 (Plotly)"
   ]
  },
  {
   "cell_type": "code",
   "execution_count": 21,
   "id": "a3f0c795",
   "metadata": {},
   "outputs": [
    {
     "data": {
      "text/html": [
       "        <script type=\"text/javascript\">\n",
       "        window.PlotlyConfig = {MathJaxConfig: 'local'};\n",
       "        if (window.MathJax) {MathJax.Hub.Config({SVG: {font: \"STIX-Web\"}});}\n",
       "        if (typeof require !== 'undefined') {\n",
       "        require.undef(\"plotly\");\n",
       "        requirejs.config({\n",
       "            paths: {\n",
       "                'plotly': ['https://cdn.plot.ly/plotly-2.9.0.min']\n",
       "            }\n",
       "        });\n",
       "        require(['plotly'], function(Plotly) {\n",
       "            window._Plotly = Plotly;\n",
       "        });\n",
       "        }\n",
       "        </script>\n",
       "        "
      ]
     },
     "metadata": {},
     "output_type": "display_data"
    }
   ],
   "source": [
    "# Visual Python: Logic > code\n",
    "import plotly.express as px\n",
    "import plotly\n",
    "plotly.offline.init_notebook_mode(connected=True)"
   ]
  },
  {
   "cell_type": "code",
   "execution_count": 22,
   "id": "2dbd1ac4",
   "metadata": {},
   "outputs": [
    {
     "data": {
      "text/html": [
       "<div>\n",
       "<style scoped>\n",
       "    .dataframe tbody tr th:only-of-type {\n",
       "        vertical-align: middle;\n",
       "    }\n",
       "\n",
       "    .dataframe tbody tr th {\n",
       "        vertical-align: top;\n",
       "    }\n",
       "\n",
       "    .dataframe thead th {\n",
       "        text-align: right;\n",
       "    }\n",
       "</style>\n",
       "<table border=\"1\" class=\"dataframe\">\n",
       "  <thead>\n",
       "    <tr style=\"text-align: right;\">\n",
       "      <th></th>\n",
       "      <th>네이버위치명</th>\n",
       "      <th>경도</th>\n",
       "      <th>위도</th>\n",
       "      <th>인스타위치명</th>\n",
       "    </tr>\n",
       "  </thead>\n",
       "  <tbody>\n",
       "    <tr>\n",
       "      <th>0</th>\n",
       "      <td>북한산둘레길 1구간소나무숲길</td>\n",
       "      <td>127.00902108350806</td>\n",
       "      <td>37.65888882945633</td>\n",
       "      <td>서울</td>\n",
       "    </tr>\n",
       "    <tr>\n",
       "      <th>1</th>\n",
       "      <td>전주고려병원</td>\n",
       "      <td>127.16703747285135</td>\n",
       "      <td>35.83991953035569</td>\n",
       "      <td>Jeonju, Korea</td>\n",
       "    </tr>\n",
       "    <tr>\n",
       "      <th>2</th>\n",
       "      <td>대한민국</td>\n",
       "      <td>127.062417480704</td>\n",
       "      <td>37.5067075025853</td>\n",
       "      <td>대한민국</td>\n",
       "    </tr>\n",
       "    <tr>\n",
       "      <th>3</th>\n",
       "      <td>순천만국가정원</td>\n",
       "      <td>127.498901621838</td>\n",
       "      <td>34.9292183256846</td>\n",
       "      <td>전라남도 순천</td>\n",
       "    </tr>\n",
       "    <tr>\n",
       "      <th>4</th>\n",
       "      <td>흰여울문화마을</td>\n",
       "      <td>129.04528136992104</td>\n",
       "      <td>35.077914827298564</td>\n",
       "      <td>흰여울문화마을</td>\n",
       "    </tr>\n",
       "    <tr>\n",
       "      <th>...</th>\n",
       "      <td>...</td>\n",
       "      <td>...</td>\n",
       "      <td>...</td>\n",
       "      <td>...</td>\n",
       "    </tr>\n",
       "    <tr>\n",
       "      <th>151</th>\n",
       "      <td>하이클래스153</td>\n",
       "      <td>127.77873171914088</td>\n",
       "      <td>34.69283959758517</td>\n",
       "      <td>하이클래스153</td>\n",
       "    </tr>\n",
       "    <tr>\n",
       "      <th>152</th>\n",
       "      <td>사직공원 전망타워</td>\n",
       "      <td>126.91152697088849</td>\n",
       "      <td>35.14163934774707</td>\n",
       "      <td>양림동</td>\n",
       "    </tr>\n",
       "    <tr>\n",
       "      <th>153</th>\n",
       "      <td>지중해마을</td>\n",
       "      <td>127.06164409380338</td>\n",
       "      <td>36.796950862892004</td>\n",
       "      <td>아산지중해마을</td>\n",
       "    </tr>\n",
       "    <tr>\n",
       "      <th>154</th>\n",
       "      <td>원조삼계탕</td>\n",
       "      <td>127.496840904758</td>\n",
       "      <td>36.1009828538327</td>\n",
       "      <td>금산원조김정이삼계탕</td>\n",
       "    </tr>\n",
       "    <tr>\n",
       "      <th>155</th>\n",
       "      <td>선운산도립공원</td>\n",
       "      <td>126.586824816103</td>\n",
       "      <td>35.4983636404329</td>\n",
       "      <td>선운산 도립공원</td>\n",
       "    </tr>\n",
       "  </tbody>\n",
       "</table>\n",
       "<p>156 rows × 4 columns</p>\n",
       "</div>"
      ],
      "text/plain": [
       "              네이버위치명                  경도                  위도         인스타위치명\n",
       "0    북한산둘레길 1구간소나무숲길  127.00902108350806   37.65888882945633             서울\n",
       "1             전주고려병원  127.16703747285135   35.83991953035569  Jeonju, Korea\n",
       "2               대한민국    127.062417480704    37.5067075025853           대한민국\n",
       "3            순천만국가정원    127.498901621838    34.9292183256846        전라남도 순천\n",
       "4            흰여울문화마을  129.04528136992104  35.077914827298564        흰여울문화마을\n",
       "..               ...                 ...                 ...            ...\n",
       "151         하이클래스153  127.77873171914088   34.69283959758517       하이클래스153\n",
       "152        사직공원 전망타워  126.91152697088849   35.14163934774707            양림동\n",
       "153            지중해마을  127.06164409380338  36.796950862892004        아산지중해마을\n",
       "154            원조삼계탕    127.496840904758    36.1009828538327     금산원조김정이삼계탕\n",
       "155          선운산도립공원    126.586824816103    35.4983636404329       선운산 도립공원\n",
       "\n",
       "[156 rows x 4 columns]"
      ]
     },
     "execution_count": 22,
     "metadata": {},
     "output_type": "execute_result"
    }
   ],
   "source": [
    "locations_inform_df"
   ]
  },
  {
   "cell_type": "code",
   "execution_count": 23,
   "id": "d3ffa65f",
   "metadata": {},
   "outputs": [
    {
     "data": {
      "text/plain": [
       "네이버위치명    object\n",
       "경도        object\n",
       "위도        object\n",
       "인스타위치명    object\n",
       "dtype: object"
      ]
     },
     "execution_count": 23,
     "metadata": {},
     "output_type": "execute_result"
    }
   ],
   "source": [
    "locations_inform_df.dtypes"
   ]
  },
  {
   "cell_type": "code",
   "execution_count": 24,
   "id": "158511d4",
   "metadata": {},
   "outputs": [],
   "source": [
    "locations_inform_df = locations_inform_df[['경도','위도']].astype('float64')"
   ]
  },
  {
   "cell_type": "code",
   "execution_count": 25,
   "id": "482f41f8",
   "metadata": {},
   "outputs": [
    {
     "data": {
      "application/vnd.plotly.v1+json": {
       "config": {
        "plotlyServerURL": "https://plot.ly"
       },
       "data": [
        {
         "hovertemplate": "위도=%{lat}<br>경도=%{lon}<extra></extra>",
         "lat": [
          37.65888882945633,
          35.83991953035569,
          37.5067075025853,
          34.9292183256846,
          35.077914827298564,
          35.1541271197168,
          35.8148243087693,
          37.54676810321139,
          35.1585232170784,
          35.2795563224554,
          37.5311524042719,
          35.1636479638612,
          34.778856828051,
          37.293101115700345,
          35.32783714533351,
          36.71265505145304,
          35.8137981198856,
          37.5334008669977,
          34.3252169934343,
          37.5776087830657,
          35.8148243087693,
          36.2893534027601,
          35.09630012826786,
          37.408267273136,
          37.5251230282347,
          36.30549641819005,
          37.572602860810186,
          35.29367500800736,
          36.46284607510989,
          37.5460621332768,
          37.6403469477598,
          37.5568707448873,
          35.18336009869683,
          35.2228609553696,
          36.3691431776998,
          37.56318453011765,
          37.5500357690503,
          37.559266655452944,
          34.67002619469291,
          33.379777816446165,
          36.48050505095184,
          34.9503032109074,
          35.1012352318711,
          35.8347762643542,
          35.140581994661,
          35.22431406471364,
          37.526360181897346,
          35.16255354252179,
          33.3904488156321,
          37.5829185302128,
          35.2044723825676,
          34.778856828051,
          33.4151951723289,
          35.14889951801161,
          37.5711282880022,
          35.48586234622641,
          37.661838248115,
          37.18998083264322,
          37.4574862021254,
          37.3351107501047,
          37.5080210111994,
          35.8106890647466,
          37.4494502813442,
          36.55548368648478,
          37.56629149790628,
          36.158460159655,
          35.831423029037005,
          37.5177992564873,
          35.990877724431,
          35.8841680506836,
          37.539444767461234,
          35.1555906084513,
          38.14840757932009,
          37.5126453850716,
          37.5655638710672,
          37.791693560311764,
          33.4433592216395,
          36.3072844116646,
          37.5383632299041,
          35.8230232153817,
          35.78991466172384,
          35.14163934774707,
          37.5030559293686,
          36.49127151549985,
          35.6242356780005,
          35.9393207958149,
          35.1383640253918,
          37.5347227952064,
          35.226737085805,
          36.11478807284895,
          37.1876223428699,
          37.576635285174,
          35.8148243087693,
          33.23799399299591,
          35.147333715652636,
          35.1555906084513,
          37.5443222301513,
          36.498453162382965,
          37.774941756546156,
          37.8136129609739,
          37.77857463618597,
          37.28371684720815,
          35.4867426016814,
          36.453681433446,
          37.64097031230355,
          35.15709193838165,
          37.5656726042805,
          36.3063152681079,
          38.115871436438,
          37.7446245414136,
          36.4632408446971,
          37.791693560311764,
          37.5531869023298,
          37.00134982798805,
          37.58489976333122,
          35.154306947485765,
          37.8906450835832,
          33.2316567556941,
          37.5776087830657,
          35.8474875517327,
          34.9983562852601,
          35.9427148480857,
          37.5629932911886,
          35.077914827298564,
          35.1176758637348,
          35.92996298861977,
          37.26922589492174,
          36.6704453078858,
          36.2453123693452,
          35.7547934636796,
          37.39694060072543,
          37.5273338139916,
          36.54172083238519,
          37.54040751726388,
          37.5799269476255,
          37.8034055083125,
          37.7058296552942,
          36.50491782524117,
          35.82844797032039,
          37.5673174505789,
          37.51131840799449,
          36.16335176445686,
          37.5820641053666,
          36.5669985982807,
          37.5091105328378,
          36.2230366968293,
          37.58024753641691,
          35.0759454359851,
          35.32783714533351,
          37.5524979951415,
          35.1006495749289,
          34.69283959758517,
          35.14163934774707,
          36.796950862892004,
          36.1009828538327,
          35.4983636404329
         ],
         "legendgroup": "",
         "lon": [
          127.00902108350806,
          127.16703747285135,
          127.062417480704,
          127.498901621838,
          129.04528136992104,
          126.922516926081,
          127.152557091072,
          127.06527987338404,
          129.159854668484,
          127.30786766033,
          126.837852623984,
          129.158897240251,
          127.74547599836,
          127.20219830178264,
          126.98593088715316,
          126.54821585012382,
          127.157184713186,
          126.997578803222,
          126.748807290779,
          126.976896737645,
          127.152557091072,
          127.397754143625,
          129.00942831915552,
          127.239583690907,
          127.033904321455,
          127.19642662197455,
          126.97691639601517,
          127.53210019974368,
          127.49176536339175,
          126.913003239534,
          126.786706802389,
          126.923778562273,
          126.88568803886822,
          126.841304933753,
          127.388037583592,
          126.98735609674071,
          126.910898276245,
          126.99474848811892,
          127.08902041487755,
          126.54587355630036,
          127.33068603992119,
          127.485607614065,
          129.032328133127,
          129.226975518857,
          126.9126934601,
          126.89424238616951,
          127.04685367189131,
          127.78280632240237,
          126.235889902253,
          126.983384576672,
          126.885074234751,
          127.74547599836,
          126.893774070705,
          126.92440286557611,
          127.095764720133,
          126.90551576766015,
          126.679315422119,
          125.97941900801521,
          127.303102565454,
          127.935155361003,
          126.989929422809,
          126.410505924295,
          126.45042670237,
          126.95439148514184,
          126.99098443539428,
          129.397799365546,
          127.06931532802174,
          127.082357837214,
          129.560603237807,
          128.556949831195,
          126.99708075146782,
          127.688100367243,
          128.39306480593385,
          126.998407429526,
          126.974894754989,
          127.52508704819692,
          126.779667502934,
          126.91069406216,
          127.057273016109,
          126.413021905999,
          129.3318426090494,
          126.91152697088849,
          127.038818462908,
          127.27478409315026,
          126.466064101223,
          126.532481583198,
          126.911839948184,
          126.9865496751,
          127.460327936292,
          127.59592144827683,
          126.650439485742,
          126.974823115204,
          127.152557091072,
          126.42601744245376,
          126.92135353457694,
          127.688100367243,
          127.037617759165,
          127.28312036420913,
          126.9302203716329,
          128.897555797396,
          126.93529778297732,
          127.01154715422868,
          126.908604737383,
          127.420522489973,
          126.93793263638513,
          128.11868116984738,
          126.977968926957,
          126.906673511388,
          128.635755922233,
          126.959834878634,
          127.126296598501,
          127.52508704819692,
          126.922908642452,
          128.1665643061388,
          126.95784443609999,
          129.06451345020173,
          126.743168704187,
          126.314736627312,
          126.976896737645,
          127.12102461543232,
          126.170157848137,
          128.640979002345,
          126.999062830081,
          129.04528136992104,
          129.033210307989,
          128.60074294724436,
          127.11036691190434,
          127.209409084052,
          126.53663345813,
          126.853749381112,
          126.66099573169095,
          127.019046713623,
          127.8329575435722,
          127.06920291650829,
          126.98147877835,
          128.910210247605,
          129.009485518837,
          127.26719716747931,
          129.22616352010834,
          127.012156747242,
          127.05977688598037,
          126.52271060325947,
          126.981482777468,
          128.73025624372,
          127.04892851392,
          127.482983745286,
          126.98045527252978,
          129.016954361828,
          126.98593088715316,
          126.989316855952,
          129.124487940263,
          127.77873171914088,
          126.91152697088849,
          127.06164409380338,
          127.496840904758,
          126.586824816103
         ],
         "marker": {
          "color": "#636efa"
         },
         "mode": "markers",
         "name": "",
         "showlegend": false,
         "subplot": "mapbox",
         "type": "scattermapbox"
        }
       ],
       "layout": {
        "legend": {
         "tracegroupgap": 0
        },
        "mapbox": {
         "center": {
          "lat": 36.369539802707756,
          "lon": 127.34408212717561
         },
         "domain": {
          "x": [
           0,
           1
          ],
          "y": [
           0,
           1
          ]
         },
         "style": "open-street-map",
         "zoom": 6
        },
        "margin": {
         "t": 60
        },
        "template": {
         "data": {
          "bar": [
           {
            "error_x": {
             "color": "#2a3f5f"
            },
            "error_y": {
             "color": "#2a3f5f"
            },
            "marker": {
             "line": {
              "color": "#E5ECF6",
              "width": 0.5
             },
             "pattern": {
              "fillmode": "overlay",
              "size": 10,
              "solidity": 0.2
             }
            },
            "type": "bar"
           }
          ],
          "barpolar": [
           {
            "marker": {
             "line": {
              "color": "#E5ECF6",
              "width": 0.5
             },
             "pattern": {
              "fillmode": "overlay",
              "size": 10,
              "solidity": 0.2
             }
            },
            "type": "barpolar"
           }
          ],
          "carpet": [
           {
            "aaxis": {
             "endlinecolor": "#2a3f5f",
             "gridcolor": "white",
             "linecolor": "white",
             "minorgridcolor": "white",
             "startlinecolor": "#2a3f5f"
            },
            "baxis": {
             "endlinecolor": "#2a3f5f",
             "gridcolor": "white",
             "linecolor": "white",
             "minorgridcolor": "white",
             "startlinecolor": "#2a3f5f"
            },
            "type": "carpet"
           }
          ],
          "choropleth": [
           {
            "colorbar": {
             "outlinewidth": 0,
             "ticks": ""
            },
            "type": "choropleth"
           }
          ],
          "contour": [
           {
            "colorbar": {
             "outlinewidth": 0,
             "ticks": ""
            },
            "colorscale": [
             [
              0,
              "#0d0887"
             ],
             [
              0.1111111111111111,
              "#46039f"
             ],
             [
              0.2222222222222222,
              "#7201a8"
             ],
             [
              0.3333333333333333,
              "#9c179e"
             ],
             [
              0.4444444444444444,
              "#bd3786"
             ],
             [
              0.5555555555555556,
              "#d8576b"
             ],
             [
              0.6666666666666666,
              "#ed7953"
             ],
             [
              0.7777777777777778,
              "#fb9f3a"
             ],
             [
              0.8888888888888888,
              "#fdca26"
             ],
             [
              1,
              "#f0f921"
             ]
            ],
            "type": "contour"
           }
          ],
          "contourcarpet": [
           {
            "colorbar": {
             "outlinewidth": 0,
             "ticks": ""
            },
            "type": "contourcarpet"
           }
          ],
          "heatmap": [
           {
            "colorbar": {
             "outlinewidth": 0,
             "ticks": ""
            },
            "colorscale": [
             [
              0,
              "#0d0887"
             ],
             [
              0.1111111111111111,
              "#46039f"
             ],
             [
              0.2222222222222222,
              "#7201a8"
             ],
             [
              0.3333333333333333,
              "#9c179e"
             ],
             [
              0.4444444444444444,
              "#bd3786"
             ],
             [
              0.5555555555555556,
              "#d8576b"
             ],
             [
              0.6666666666666666,
              "#ed7953"
             ],
             [
              0.7777777777777778,
              "#fb9f3a"
             ],
             [
              0.8888888888888888,
              "#fdca26"
             ],
             [
              1,
              "#f0f921"
             ]
            ],
            "type": "heatmap"
           }
          ],
          "heatmapgl": [
           {
            "colorbar": {
             "outlinewidth": 0,
             "ticks": ""
            },
            "colorscale": [
             [
              0,
              "#0d0887"
             ],
             [
              0.1111111111111111,
              "#46039f"
             ],
             [
              0.2222222222222222,
              "#7201a8"
             ],
             [
              0.3333333333333333,
              "#9c179e"
             ],
             [
              0.4444444444444444,
              "#bd3786"
             ],
             [
              0.5555555555555556,
              "#d8576b"
             ],
             [
              0.6666666666666666,
              "#ed7953"
             ],
             [
              0.7777777777777778,
              "#fb9f3a"
             ],
             [
              0.8888888888888888,
              "#fdca26"
             ],
             [
              1,
              "#f0f921"
             ]
            ],
            "type": "heatmapgl"
           }
          ],
          "histogram": [
           {
            "marker": {
             "pattern": {
              "fillmode": "overlay",
              "size": 10,
              "solidity": 0.2
             }
            },
            "type": "histogram"
           }
          ],
          "histogram2d": [
           {
            "colorbar": {
             "outlinewidth": 0,
             "ticks": ""
            },
            "colorscale": [
             [
              0,
              "#0d0887"
             ],
             [
              0.1111111111111111,
              "#46039f"
             ],
             [
              0.2222222222222222,
              "#7201a8"
             ],
             [
              0.3333333333333333,
              "#9c179e"
             ],
             [
              0.4444444444444444,
              "#bd3786"
             ],
             [
              0.5555555555555556,
              "#d8576b"
             ],
             [
              0.6666666666666666,
              "#ed7953"
             ],
             [
              0.7777777777777778,
              "#fb9f3a"
             ],
             [
              0.8888888888888888,
              "#fdca26"
             ],
             [
              1,
              "#f0f921"
             ]
            ],
            "type": "histogram2d"
           }
          ],
          "histogram2dcontour": [
           {
            "colorbar": {
             "outlinewidth": 0,
             "ticks": ""
            },
            "colorscale": [
             [
              0,
              "#0d0887"
             ],
             [
              0.1111111111111111,
              "#46039f"
             ],
             [
              0.2222222222222222,
              "#7201a8"
             ],
             [
              0.3333333333333333,
              "#9c179e"
             ],
             [
              0.4444444444444444,
              "#bd3786"
             ],
             [
              0.5555555555555556,
              "#d8576b"
             ],
             [
              0.6666666666666666,
              "#ed7953"
             ],
             [
              0.7777777777777778,
              "#fb9f3a"
             ],
             [
              0.8888888888888888,
              "#fdca26"
             ],
             [
              1,
              "#f0f921"
             ]
            ],
            "type": "histogram2dcontour"
           }
          ],
          "mesh3d": [
           {
            "colorbar": {
             "outlinewidth": 0,
             "ticks": ""
            },
            "type": "mesh3d"
           }
          ],
          "parcoords": [
           {
            "line": {
             "colorbar": {
              "outlinewidth": 0,
              "ticks": ""
             }
            },
            "type": "parcoords"
           }
          ],
          "pie": [
           {
            "automargin": true,
            "type": "pie"
           }
          ],
          "scatter": [
           {
            "marker": {
             "colorbar": {
              "outlinewidth": 0,
              "ticks": ""
             }
            },
            "type": "scatter"
           }
          ],
          "scatter3d": [
           {
            "line": {
             "colorbar": {
              "outlinewidth": 0,
              "ticks": ""
             }
            },
            "marker": {
             "colorbar": {
              "outlinewidth": 0,
              "ticks": ""
             }
            },
            "type": "scatter3d"
           }
          ],
          "scattercarpet": [
           {
            "marker": {
             "colorbar": {
              "outlinewidth": 0,
              "ticks": ""
             }
            },
            "type": "scattercarpet"
           }
          ],
          "scattergeo": [
           {
            "marker": {
             "colorbar": {
              "outlinewidth": 0,
              "ticks": ""
             }
            },
            "type": "scattergeo"
           }
          ],
          "scattergl": [
           {
            "marker": {
             "colorbar": {
              "outlinewidth": 0,
              "ticks": ""
             }
            },
            "type": "scattergl"
           }
          ],
          "scattermapbox": [
           {
            "marker": {
             "colorbar": {
              "outlinewidth": 0,
              "ticks": ""
             }
            },
            "type": "scattermapbox"
           }
          ],
          "scatterpolar": [
           {
            "marker": {
             "colorbar": {
              "outlinewidth": 0,
              "ticks": ""
             }
            },
            "type": "scatterpolar"
           }
          ],
          "scatterpolargl": [
           {
            "marker": {
             "colorbar": {
              "outlinewidth": 0,
              "ticks": ""
             }
            },
            "type": "scatterpolargl"
           }
          ],
          "scatterternary": [
           {
            "marker": {
             "colorbar": {
              "outlinewidth": 0,
              "ticks": ""
             }
            },
            "type": "scatterternary"
           }
          ],
          "surface": [
           {
            "colorbar": {
             "outlinewidth": 0,
             "ticks": ""
            },
            "colorscale": [
             [
              0,
              "#0d0887"
             ],
             [
              0.1111111111111111,
              "#46039f"
             ],
             [
              0.2222222222222222,
              "#7201a8"
             ],
             [
              0.3333333333333333,
              "#9c179e"
             ],
             [
              0.4444444444444444,
              "#bd3786"
             ],
             [
              0.5555555555555556,
              "#d8576b"
             ],
             [
              0.6666666666666666,
              "#ed7953"
             ],
             [
              0.7777777777777778,
              "#fb9f3a"
             ],
             [
              0.8888888888888888,
              "#fdca26"
             ],
             [
              1,
              "#f0f921"
             ]
            ],
            "type": "surface"
           }
          ],
          "table": [
           {
            "cells": {
             "fill": {
              "color": "#EBF0F8"
             },
             "line": {
              "color": "white"
             }
            },
            "header": {
             "fill": {
              "color": "#C8D4E3"
             },
             "line": {
              "color": "white"
             }
            },
            "type": "table"
           }
          ]
         },
         "layout": {
          "annotationdefaults": {
           "arrowcolor": "#2a3f5f",
           "arrowhead": 0,
           "arrowwidth": 1
          },
          "autotypenumbers": "strict",
          "coloraxis": {
           "colorbar": {
            "outlinewidth": 0,
            "ticks": ""
           }
          },
          "colorscale": {
           "diverging": [
            [
             0,
             "#8e0152"
            ],
            [
             0.1,
             "#c51b7d"
            ],
            [
             0.2,
             "#de77ae"
            ],
            [
             0.3,
             "#f1b6da"
            ],
            [
             0.4,
             "#fde0ef"
            ],
            [
             0.5,
             "#f7f7f7"
            ],
            [
             0.6,
             "#e6f5d0"
            ],
            [
             0.7,
             "#b8e186"
            ],
            [
             0.8,
             "#7fbc41"
            ],
            [
             0.9,
             "#4d9221"
            ],
            [
             1,
             "#276419"
            ]
           ],
           "sequential": [
            [
             0,
             "#0d0887"
            ],
            [
             0.1111111111111111,
             "#46039f"
            ],
            [
             0.2222222222222222,
             "#7201a8"
            ],
            [
             0.3333333333333333,
             "#9c179e"
            ],
            [
             0.4444444444444444,
             "#bd3786"
            ],
            [
             0.5555555555555556,
             "#d8576b"
            ],
            [
             0.6666666666666666,
             "#ed7953"
            ],
            [
             0.7777777777777778,
             "#fb9f3a"
            ],
            [
             0.8888888888888888,
             "#fdca26"
            ],
            [
             1,
             "#f0f921"
            ]
           ],
           "sequentialminus": [
            [
             0,
             "#0d0887"
            ],
            [
             0.1111111111111111,
             "#46039f"
            ],
            [
             0.2222222222222222,
             "#7201a8"
            ],
            [
             0.3333333333333333,
             "#9c179e"
            ],
            [
             0.4444444444444444,
             "#bd3786"
            ],
            [
             0.5555555555555556,
             "#d8576b"
            ],
            [
             0.6666666666666666,
             "#ed7953"
            ],
            [
             0.7777777777777778,
             "#fb9f3a"
            ],
            [
             0.8888888888888888,
             "#fdca26"
            ],
            [
             1,
             "#f0f921"
            ]
           ]
          },
          "colorway": [
           "#636efa",
           "#EF553B",
           "#00cc96",
           "#ab63fa",
           "#FFA15A",
           "#19d3f3",
           "#FF6692",
           "#B6E880",
           "#FF97FF",
           "#FECB52"
          ],
          "font": {
           "color": "#2a3f5f"
          },
          "geo": {
           "bgcolor": "white",
           "lakecolor": "white",
           "landcolor": "#E5ECF6",
           "showlakes": true,
           "showland": true,
           "subunitcolor": "white"
          },
          "hoverlabel": {
           "align": "left"
          },
          "hovermode": "closest",
          "mapbox": {
           "style": "light"
          },
          "paper_bgcolor": "white",
          "plot_bgcolor": "#E5ECF6",
          "polar": {
           "angularaxis": {
            "gridcolor": "white",
            "linecolor": "white",
            "ticks": ""
           },
           "bgcolor": "#E5ECF6",
           "radialaxis": {
            "gridcolor": "white",
            "linecolor": "white",
            "ticks": ""
           }
          },
          "scene": {
           "xaxis": {
            "backgroundcolor": "#E5ECF6",
            "gridcolor": "white",
            "gridwidth": 2,
            "linecolor": "white",
            "showbackground": true,
            "ticks": "",
            "zerolinecolor": "white"
           },
           "yaxis": {
            "backgroundcolor": "#E5ECF6",
            "gridcolor": "white",
            "gridwidth": 2,
            "linecolor": "white",
            "showbackground": true,
            "ticks": "",
            "zerolinecolor": "white"
           },
           "zaxis": {
            "backgroundcolor": "#E5ECF6",
            "gridcolor": "white",
            "gridwidth": 2,
            "linecolor": "white",
            "showbackground": true,
            "ticks": "",
            "zerolinecolor": "white"
           }
          },
          "shapedefaults": {
           "line": {
            "color": "#2a3f5f"
           }
          },
          "ternary": {
           "aaxis": {
            "gridcolor": "white",
            "linecolor": "white",
            "ticks": ""
           },
           "baxis": {
            "gridcolor": "white",
            "linecolor": "white",
            "ticks": ""
           },
           "bgcolor": "#E5ECF6",
           "caxis": {
            "gridcolor": "white",
            "linecolor": "white",
            "ticks": ""
           }
          },
          "title": {
           "x": 0.05
          },
          "xaxis": {
           "automargin": true,
           "gridcolor": "white",
           "linecolor": "white",
           "ticks": "",
           "title": {
            "standoff": 15
           },
           "zerolinecolor": "white",
           "zerolinewidth": 2
          },
          "yaxis": {
           "automargin": true,
           "gridcolor": "white",
           "linecolor": "white",
           "ticks": "",
           "title": {
            "standoff": 15
           },
           "zerolinecolor": "white",
           "zerolinewidth": 2
          }
         }
        }
       }
      },
      "text/html": [
       "<div>                            <div id=\"8bb8d186-41e2-487f-8b5f-fc30051fd04a\" class=\"plotly-graph-div\" style=\"height:525px; width:100%;\"></div>            <script type=\"text/javascript\">                require([\"plotly\"], function(Plotly) {                    window.PLOTLYENV=window.PLOTLYENV || {};                                    if (document.getElementById(\"8bb8d186-41e2-487f-8b5f-fc30051fd04a\")) {                    Plotly.newPlot(                        \"8bb8d186-41e2-487f-8b5f-fc30051fd04a\",                        [{\"hovertemplate\":\"\\uc704\\ub3c4=%{lat}<br>\\uacbd\\ub3c4=%{lon}<extra></extra>\",\"lat\":[37.65888882945633,35.83991953035569,37.5067075025853,34.9292183256846,35.077914827298564,35.1541271197168,35.8148243087693,37.54676810321139,35.1585232170784,35.2795563224554,37.5311524042719,35.1636479638612,34.778856828051,37.293101115700345,35.32783714533351,36.71265505145304,35.8137981198856,37.5334008669977,34.3252169934343,37.5776087830657,35.8148243087693,36.2893534027601,35.09630012826786,37.408267273136,37.5251230282347,36.30549641819005,37.572602860810186,35.29367500800736,36.46284607510989,37.5460621332768,37.6403469477598,37.5568707448873,35.18336009869683,35.2228609553696,36.3691431776998,37.56318453011765,37.5500357690503,37.559266655452944,34.67002619469291,33.379777816446165,36.48050505095184,34.9503032109074,35.1012352318711,35.8347762643542,35.140581994661,35.22431406471364,37.526360181897346,35.16255354252179,33.3904488156321,37.5829185302128,35.2044723825676,34.778856828051,33.4151951723289,35.14889951801161,37.5711282880022,35.48586234622641,37.661838248115,37.18998083264322,37.4574862021254,37.3351107501047,37.5080210111994,35.8106890647466,37.4494502813442,36.55548368648478,37.56629149790628,36.158460159655,35.831423029037005,37.5177992564873,35.990877724431,35.8841680506836,37.539444767461234,35.1555906084513,38.14840757932009,37.5126453850716,37.5655638710672,37.791693560311764,33.4433592216395,36.3072844116646,37.5383632299041,35.8230232153817,35.78991466172384,35.14163934774707,37.5030559293686,36.49127151549985,35.6242356780005,35.9393207958149,35.1383640253918,37.5347227952064,35.226737085805,36.11478807284895,37.1876223428699,37.576635285174,35.8148243087693,33.23799399299591,35.147333715652636,35.1555906084513,37.5443222301513,36.498453162382965,37.774941756546156,37.8136129609739,37.77857463618597,37.28371684720815,35.4867426016814,36.453681433446,37.64097031230355,35.15709193838165,37.5656726042805,36.3063152681079,38.115871436438,37.7446245414136,36.4632408446971,37.791693560311764,37.5531869023298,37.00134982798805,37.58489976333122,35.154306947485765,37.8906450835832,33.2316567556941,37.5776087830657,35.8474875517327,34.9983562852601,35.9427148480857,37.5629932911886,35.077914827298564,35.1176758637348,35.92996298861977,37.26922589492174,36.6704453078858,36.2453123693452,35.7547934636796,37.39694060072543,37.5273338139916,36.54172083238519,37.54040751726388,37.5799269476255,37.8034055083125,37.7058296552942,36.50491782524117,35.82844797032039,37.5673174505789,37.51131840799449,36.16335176445686,37.5820641053666,36.5669985982807,37.5091105328378,36.2230366968293,37.58024753641691,35.0759454359851,35.32783714533351,37.5524979951415,35.1006495749289,34.69283959758517,35.14163934774707,36.796950862892004,36.1009828538327,35.4983636404329],\"legendgroup\":\"\",\"lon\":[127.00902108350806,127.16703747285135,127.062417480704,127.498901621838,129.04528136992104,126.922516926081,127.152557091072,127.06527987338404,129.159854668484,127.30786766033,126.837852623984,129.158897240251,127.74547599836,127.20219830178264,126.98593088715316,126.54821585012382,127.157184713186,126.997578803222,126.748807290779,126.976896737645,127.152557091072,127.397754143625,129.00942831915552,127.239583690907,127.033904321455,127.19642662197455,126.97691639601517,127.53210019974368,127.49176536339175,126.913003239534,126.786706802389,126.923778562273,126.88568803886822,126.841304933753,127.388037583592,126.98735609674071,126.910898276245,126.99474848811892,127.08902041487755,126.54587355630036,127.33068603992119,127.485607614065,129.032328133127,129.226975518857,126.9126934601,126.89424238616951,127.04685367189131,127.78280632240237,126.235889902253,126.983384576672,126.885074234751,127.74547599836,126.893774070705,126.92440286557611,127.095764720133,126.90551576766015,126.679315422119,125.97941900801521,127.303102565454,127.935155361003,126.989929422809,126.410505924295,126.45042670237,126.95439148514184,126.99098443539428,129.397799365546,127.06931532802174,127.082357837214,129.560603237807,128.556949831195,126.99708075146782,127.688100367243,128.39306480593385,126.998407429526,126.974894754989,127.52508704819692,126.779667502934,126.91069406216,127.057273016109,126.413021905999,129.3318426090494,126.91152697088849,127.038818462908,127.27478409315026,126.466064101223,126.532481583198,126.911839948184,126.9865496751,127.460327936292,127.59592144827683,126.650439485742,126.974823115204,127.152557091072,126.42601744245376,126.92135353457694,127.688100367243,127.037617759165,127.28312036420913,126.9302203716329,128.897555797396,126.93529778297732,127.01154715422868,126.908604737383,127.420522489973,126.93793263638513,128.11868116984738,126.977968926957,126.906673511388,128.635755922233,126.959834878634,127.126296598501,127.52508704819692,126.922908642452,128.1665643061388,126.95784443609999,129.06451345020173,126.743168704187,126.314736627312,126.976896737645,127.12102461543232,126.170157848137,128.640979002345,126.999062830081,129.04528136992104,129.033210307989,128.60074294724436,127.11036691190434,127.209409084052,126.53663345813,126.853749381112,126.66099573169095,127.019046713623,127.8329575435722,127.06920291650829,126.98147877835,128.910210247605,129.009485518837,127.26719716747931,129.22616352010834,127.012156747242,127.05977688598037,126.52271060325947,126.981482777468,128.73025624372,127.04892851392,127.482983745286,126.98045527252978,129.016954361828,126.98593088715316,126.989316855952,129.124487940263,127.77873171914088,126.91152697088849,127.06164409380338,127.496840904758,126.586824816103],\"marker\":{\"color\":\"#636efa\"},\"mode\":\"markers\",\"name\":\"\",\"showlegend\":false,\"subplot\":\"mapbox\",\"type\":\"scattermapbox\"}],                        {\"template\":{\"data\":{\"bar\":[{\"error_x\":{\"color\":\"#2a3f5f\"},\"error_y\":{\"color\":\"#2a3f5f\"},\"marker\":{\"line\":{\"color\":\"#E5ECF6\",\"width\":0.5},\"pattern\":{\"fillmode\":\"overlay\",\"size\":10,\"solidity\":0.2}},\"type\":\"bar\"}],\"barpolar\":[{\"marker\":{\"line\":{\"color\":\"#E5ECF6\",\"width\":0.5},\"pattern\":{\"fillmode\":\"overlay\",\"size\":10,\"solidity\":0.2}},\"type\":\"barpolar\"}],\"carpet\":[{\"aaxis\":{\"endlinecolor\":\"#2a3f5f\",\"gridcolor\":\"white\",\"linecolor\":\"white\",\"minorgridcolor\":\"white\",\"startlinecolor\":\"#2a3f5f\"},\"baxis\":{\"endlinecolor\":\"#2a3f5f\",\"gridcolor\":\"white\",\"linecolor\":\"white\",\"minorgridcolor\":\"white\",\"startlinecolor\":\"#2a3f5f\"},\"type\":\"carpet\"}],\"choropleth\":[{\"colorbar\":{\"outlinewidth\":0,\"ticks\":\"\"},\"type\":\"choropleth\"}],\"contour\":[{\"colorbar\":{\"outlinewidth\":0,\"ticks\":\"\"},\"colorscale\":[[0.0,\"#0d0887\"],[0.1111111111111111,\"#46039f\"],[0.2222222222222222,\"#7201a8\"],[0.3333333333333333,\"#9c179e\"],[0.4444444444444444,\"#bd3786\"],[0.5555555555555556,\"#d8576b\"],[0.6666666666666666,\"#ed7953\"],[0.7777777777777778,\"#fb9f3a\"],[0.8888888888888888,\"#fdca26\"],[1.0,\"#f0f921\"]],\"type\":\"contour\"}],\"contourcarpet\":[{\"colorbar\":{\"outlinewidth\":0,\"ticks\":\"\"},\"type\":\"contourcarpet\"}],\"heatmap\":[{\"colorbar\":{\"outlinewidth\":0,\"ticks\":\"\"},\"colorscale\":[[0.0,\"#0d0887\"],[0.1111111111111111,\"#46039f\"],[0.2222222222222222,\"#7201a8\"],[0.3333333333333333,\"#9c179e\"],[0.4444444444444444,\"#bd3786\"],[0.5555555555555556,\"#d8576b\"],[0.6666666666666666,\"#ed7953\"],[0.7777777777777778,\"#fb9f3a\"],[0.8888888888888888,\"#fdca26\"],[1.0,\"#f0f921\"]],\"type\":\"heatmap\"}],\"heatmapgl\":[{\"colorbar\":{\"outlinewidth\":0,\"ticks\":\"\"},\"colorscale\":[[0.0,\"#0d0887\"],[0.1111111111111111,\"#46039f\"],[0.2222222222222222,\"#7201a8\"],[0.3333333333333333,\"#9c179e\"],[0.4444444444444444,\"#bd3786\"],[0.5555555555555556,\"#d8576b\"],[0.6666666666666666,\"#ed7953\"],[0.7777777777777778,\"#fb9f3a\"],[0.8888888888888888,\"#fdca26\"],[1.0,\"#f0f921\"]],\"type\":\"heatmapgl\"}],\"histogram\":[{\"marker\":{\"pattern\":{\"fillmode\":\"overlay\",\"size\":10,\"solidity\":0.2}},\"type\":\"histogram\"}],\"histogram2d\":[{\"colorbar\":{\"outlinewidth\":0,\"ticks\":\"\"},\"colorscale\":[[0.0,\"#0d0887\"],[0.1111111111111111,\"#46039f\"],[0.2222222222222222,\"#7201a8\"],[0.3333333333333333,\"#9c179e\"],[0.4444444444444444,\"#bd3786\"],[0.5555555555555556,\"#d8576b\"],[0.6666666666666666,\"#ed7953\"],[0.7777777777777778,\"#fb9f3a\"],[0.8888888888888888,\"#fdca26\"],[1.0,\"#f0f921\"]],\"type\":\"histogram2d\"}],\"histogram2dcontour\":[{\"colorbar\":{\"outlinewidth\":0,\"ticks\":\"\"},\"colorscale\":[[0.0,\"#0d0887\"],[0.1111111111111111,\"#46039f\"],[0.2222222222222222,\"#7201a8\"],[0.3333333333333333,\"#9c179e\"],[0.4444444444444444,\"#bd3786\"],[0.5555555555555556,\"#d8576b\"],[0.6666666666666666,\"#ed7953\"],[0.7777777777777778,\"#fb9f3a\"],[0.8888888888888888,\"#fdca26\"],[1.0,\"#f0f921\"]],\"type\":\"histogram2dcontour\"}],\"mesh3d\":[{\"colorbar\":{\"outlinewidth\":0,\"ticks\":\"\"},\"type\":\"mesh3d\"}],\"parcoords\":[{\"line\":{\"colorbar\":{\"outlinewidth\":0,\"ticks\":\"\"}},\"type\":\"parcoords\"}],\"pie\":[{\"automargin\":true,\"type\":\"pie\"}],\"scatter\":[{\"marker\":{\"colorbar\":{\"outlinewidth\":0,\"ticks\":\"\"}},\"type\":\"scatter\"}],\"scatter3d\":[{\"line\":{\"colorbar\":{\"outlinewidth\":0,\"ticks\":\"\"}},\"marker\":{\"colorbar\":{\"outlinewidth\":0,\"ticks\":\"\"}},\"type\":\"scatter3d\"}],\"scattercarpet\":[{\"marker\":{\"colorbar\":{\"outlinewidth\":0,\"ticks\":\"\"}},\"type\":\"scattercarpet\"}],\"scattergeo\":[{\"marker\":{\"colorbar\":{\"outlinewidth\":0,\"ticks\":\"\"}},\"type\":\"scattergeo\"}],\"scattergl\":[{\"marker\":{\"colorbar\":{\"outlinewidth\":0,\"ticks\":\"\"}},\"type\":\"scattergl\"}],\"scattermapbox\":[{\"marker\":{\"colorbar\":{\"outlinewidth\":0,\"ticks\":\"\"}},\"type\":\"scattermapbox\"}],\"scatterpolar\":[{\"marker\":{\"colorbar\":{\"outlinewidth\":0,\"ticks\":\"\"}},\"type\":\"scatterpolar\"}],\"scatterpolargl\":[{\"marker\":{\"colorbar\":{\"outlinewidth\":0,\"ticks\":\"\"}},\"type\":\"scatterpolargl\"}],\"scatterternary\":[{\"marker\":{\"colorbar\":{\"outlinewidth\":0,\"ticks\":\"\"}},\"type\":\"scatterternary\"}],\"surface\":[{\"colorbar\":{\"outlinewidth\":0,\"ticks\":\"\"},\"colorscale\":[[0.0,\"#0d0887\"],[0.1111111111111111,\"#46039f\"],[0.2222222222222222,\"#7201a8\"],[0.3333333333333333,\"#9c179e\"],[0.4444444444444444,\"#bd3786\"],[0.5555555555555556,\"#d8576b\"],[0.6666666666666666,\"#ed7953\"],[0.7777777777777778,\"#fb9f3a\"],[0.8888888888888888,\"#fdca26\"],[1.0,\"#f0f921\"]],\"type\":\"surface\"}],\"table\":[{\"cells\":{\"fill\":{\"color\":\"#EBF0F8\"},\"line\":{\"color\":\"white\"}},\"header\":{\"fill\":{\"color\":\"#C8D4E3\"},\"line\":{\"color\":\"white\"}},\"type\":\"table\"}]},\"layout\":{\"annotationdefaults\":{\"arrowcolor\":\"#2a3f5f\",\"arrowhead\":0,\"arrowwidth\":1},\"autotypenumbers\":\"strict\",\"coloraxis\":{\"colorbar\":{\"outlinewidth\":0,\"ticks\":\"\"}},\"colorscale\":{\"diverging\":[[0,\"#8e0152\"],[0.1,\"#c51b7d\"],[0.2,\"#de77ae\"],[0.3,\"#f1b6da\"],[0.4,\"#fde0ef\"],[0.5,\"#f7f7f7\"],[0.6,\"#e6f5d0\"],[0.7,\"#b8e186\"],[0.8,\"#7fbc41\"],[0.9,\"#4d9221\"],[1,\"#276419\"]],\"sequential\":[[0.0,\"#0d0887\"],[0.1111111111111111,\"#46039f\"],[0.2222222222222222,\"#7201a8\"],[0.3333333333333333,\"#9c179e\"],[0.4444444444444444,\"#bd3786\"],[0.5555555555555556,\"#d8576b\"],[0.6666666666666666,\"#ed7953\"],[0.7777777777777778,\"#fb9f3a\"],[0.8888888888888888,\"#fdca26\"],[1.0,\"#f0f921\"]],\"sequentialminus\":[[0.0,\"#0d0887\"],[0.1111111111111111,\"#46039f\"],[0.2222222222222222,\"#7201a8\"],[0.3333333333333333,\"#9c179e\"],[0.4444444444444444,\"#bd3786\"],[0.5555555555555556,\"#d8576b\"],[0.6666666666666666,\"#ed7953\"],[0.7777777777777778,\"#fb9f3a\"],[0.8888888888888888,\"#fdca26\"],[1.0,\"#f0f921\"]]},\"colorway\":[\"#636efa\",\"#EF553B\",\"#00cc96\",\"#ab63fa\",\"#FFA15A\",\"#19d3f3\",\"#FF6692\",\"#B6E880\",\"#FF97FF\",\"#FECB52\"],\"font\":{\"color\":\"#2a3f5f\"},\"geo\":{\"bgcolor\":\"white\",\"lakecolor\":\"white\",\"landcolor\":\"#E5ECF6\",\"showlakes\":true,\"showland\":true,\"subunitcolor\":\"white\"},\"hoverlabel\":{\"align\":\"left\"},\"hovermode\":\"closest\",\"mapbox\":{\"style\":\"light\"},\"paper_bgcolor\":\"white\",\"plot_bgcolor\":\"#E5ECF6\",\"polar\":{\"angularaxis\":{\"gridcolor\":\"white\",\"linecolor\":\"white\",\"ticks\":\"\"},\"bgcolor\":\"#E5ECF6\",\"radialaxis\":{\"gridcolor\":\"white\",\"linecolor\":\"white\",\"ticks\":\"\"}},\"scene\":{\"xaxis\":{\"backgroundcolor\":\"#E5ECF6\",\"gridcolor\":\"white\",\"gridwidth\":2,\"linecolor\":\"white\",\"showbackground\":true,\"ticks\":\"\",\"zerolinecolor\":\"white\"},\"yaxis\":{\"backgroundcolor\":\"#E5ECF6\",\"gridcolor\":\"white\",\"gridwidth\":2,\"linecolor\":\"white\",\"showbackground\":true,\"ticks\":\"\",\"zerolinecolor\":\"white\"},\"zaxis\":{\"backgroundcolor\":\"#E5ECF6\",\"gridcolor\":\"white\",\"gridwidth\":2,\"linecolor\":\"white\",\"showbackground\":true,\"ticks\":\"\",\"zerolinecolor\":\"white\"}},\"shapedefaults\":{\"line\":{\"color\":\"#2a3f5f\"}},\"ternary\":{\"aaxis\":{\"gridcolor\":\"white\",\"linecolor\":\"white\",\"ticks\":\"\"},\"baxis\":{\"gridcolor\":\"white\",\"linecolor\":\"white\",\"ticks\":\"\"},\"bgcolor\":\"#E5ECF6\",\"caxis\":{\"gridcolor\":\"white\",\"linecolor\":\"white\",\"ticks\":\"\"}},\"title\":{\"x\":0.05},\"xaxis\":{\"automargin\":true,\"gridcolor\":\"white\",\"linecolor\":\"white\",\"ticks\":\"\",\"title\":{\"standoff\":15},\"zerolinecolor\":\"white\",\"zerolinewidth\":2},\"yaxis\":{\"automargin\":true,\"gridcolor\":\"white\",\"linecolor\":\"white\",\"ticks\":\"\",\"title\":{\"standoff\":15},\"zerolinecolor\":\"white\",\"zerolinewidth\":2}}},\"mapbox\":{\"domain\":{\"x\":[0.0,1.0],\"y\":[0.0,1.0]},\"center\":{\"lat\":36.369539802707756,\"lon\":127.34408212717561},\"zoom\":6,\"style\":\"open-street-map\"},\"legend\":{\"tracegroupgap\":0},\"margin\":{\"t\":60}},                        {\"responsive\": true}                    ).then(function(){\n",
       "                            \n",
       "var gd = document.getElementById('8bb8d186-41e2-487f-8b5f-fc30051fd04a');\n",
       "var x = new MutationObserver(function (mutations, observer) {{\n",
       "        var display = window.getComputedStyle(gd).display;\n",
       "        if (!display || display === 'none') {{\n",
       "            console.log([gd, 'removed!']);\n",
       "            Plotly.purge(gd);\n",
       "            observer.disconnect();\n",
       "        }}\n",
       "}});\n",
       "\n",
       "// Listen for the removal of the full notebook cells\n",
       "var notebookContainer = gd.closest('#notebook-container');\n",
       "if (notebookContainer) {{\n",
       "    x.observe(notebookContainer, {childList: true});\n",
       "}}\n",
       "\n",
       "// Listen for the clearing of the current output cell\n",
       "var outputEl = gd.closest('.output');\n",
       "if (outputEl) {{\n",
       "    x.observe(outputEl, {childList: true});\n",
       "}}\n",
       "\n",
       "                        })                };                });            </script>        </div>"
      ]
     },
     "metadata": {},
     "output_type": "display_data"
    }
   ],
   "source": [
    "fig = px.scatter_mapbox(locations_inform_df, lat='위도', lon='경도', size_max=400, zoom=6)\n",
    "fig.update_layout(mapbox_style = 'open-street-map')\n",
    "fig.show()"
   ]
  },
  {
   "cell_type": "code",
   "execution_count": 26,
   "id": "31b79a07",
   "metadata": {},
   "outputs": [],
   "source": [
    "#End of File"
   ]
  }
 ],
 "metadata": {
  "kernelspec": {
   "display_name": "Python 3 (ipykernel)",
   "language": "python",
   "name": "python3"
  },
  "language_info": {
   "codemirror_mode": {
    "name": "ipython",
    "version": 3
   },
   "file_extension": ".py",
   "mimetype": "text/x-python",
   "name": "python",
   "nbconvert_exporter": "python",
   "pygments_lexer": "ipython3",
   "version": "3.9.12"
  }
 },
 "nbformat": 4,
 "nbformat_minor": 5
}
